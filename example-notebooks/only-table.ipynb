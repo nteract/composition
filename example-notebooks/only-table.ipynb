{
 "cells": [
  {
   "cell_type": "code",
   "execution_count": 12,
   "metadata": {
    "collapsed": false,
    "outputExpanded": true
   },
   "source": [
    "display({\n",
    "    'application/vnd.tableschema.v1+json': payload\n",
    "}, raw=True)"
   ],
   "outputs": [
    {
     "metadata": {},
     "data": {
      "application/vnd.tableschema.v1+json": {
       "schema": {
        "fields": [
         {
          "type": "any",
          "name": "Date"
         },
         {
          "type": "number",
          "name": "Open"
         },
         {
          "type": "number",
          "name": "High"
         },
         {
          "type": "number",
          "name": "Low"
         },
         {
          "type": "number",
          "name": "Close"
         },
         {
          "type": "integer",
          "name": "Volume"
         },
         {
          "type": "number",
          "name": "Adj Close"
         }
        ]
       },
       "data": [
        {
         "Low": 88.94,
         "High": 94.09,
         "Close": 90.81,
         "Adj Close": 33.68,
         "Volume": 106889800,
         "Open": 89.62,
         "Date": "2000-03-01"
        },
        {
         "Low": 91.12,
         "High": 95.37,
         "Close": 93.37,
         "Adj Close": 34.63,
         "Volume": 106932600,
         "Open": 91.81,
         "Date": "2000-03-02"
        },
        {
         "Low": 93.87,
         "High": 98.87,
         "Close": 96.12,
         "Adj Close": 35.65,
         "Volume": 101435200,
         "Open": 94.75,
         "Date": "2000-03-03"
        },
        {
         "Low": 90.12,
         "High": 97.37,
         "Close": 90.62,
         "Adj Close": 33.61,
         "Volume": 93609400,
         "Open": 96,
         "Date": "2000-03-06"
        },
        {
         "Low": 91.94,
         "High": 97.5,
         "Close": 92.87,
         "Adj Close": 34.45,
         "Volume": 135061000,
         "Open": 96.12,
         "Date": "2000-03-07"
        },
        {
         "Low": 91,
         "High": 96.19,
         "Close": 95.56,
         "Adj Close": 35.44,
         "Volume": 94290000,
         "Open": 93.81,
         "Date": "2000-03-08"
        },
        {
         "Low": 95,
         "High": 100,
         "Close": 100,
         "Adj Close": 37.09,
         "Volume": 88198800,
         "Open": 95.31,
         "Date": "2000-03-09"
        },
        {
         "Low": 99.5,
         "High": 102.5,
         "Close": 101,
         "Adj Close": 37.46,
         "Volume": 85589000,
         "Open": 99.56,
         "Date": "2000-03-10"
        },
        {
         "Low": 97.5,
         "High": 100.25,
         "Close": 98,
         "Adj Close": 36.35,
         "Volume": 61831800,
         "Open": 97.62,
         "Date": "2000-03-13"
        },
        {
         "Low": 95.12,
         "High": 99.25,
         "Close": 95.12,
         "Adj Close": 35.28,
         "Volume": 73489200,
         "Open": 98.62,
         "Date": "2000-03-14"
        },
        {
         "Low": 93.69,
         "High": 96.62,
         "Close": 95.37,
         "Adj Close": 35.37,
         "Volume": 53208000,
         "Open": 94.56,
         "Date": "2000-03-15"
        },
        {
         "Low": 93.25,
         "High": 96.69,
         "Close": 95.37,
         "Adj Close": 35.37,
         "Volume": 77300800,
         "Open": 95.94,
         "Date": "2000-03-16"
        },
        {
         "Low": 94.5,
         "High": 99.5,
         "Close": 99.37,
         "Adj Close": 36.86,
         "Volume": 81161600,
         "Open": 95.25,
         "Date": "2000-03-17"
        },
        {
         "Low": 96.5,
         "High": 99.75,
         "Close": 97.37,
         "Adj Close": 36.12,
         "Volume": 47773000,
         "Open": 98.75,
         "Date": "2000-03-20"
        },
        {
         "Low": 96.5,
         "High": 103.12,
         "Close": 102.75,
         "Adj Close": 38.11,
         "Volume": 81648800,
         "Open": 96.75,
         "Date": "2000-03-21"
        },
        {
         "Low": 101.12,
         "High": 105.62,
         "Close": 103.25,
         "Adj Close": 38.3,
         "Volume": 93975800,
         "Open": 102.81,
         "Date": "2000-03-22"
        },
        {
         "Low": 106.62,
         "High": 112.87,
         "Close": 111.87,
         "Adj Close": 41.49,
         "Volume": 148224000,
         "Open": 106.81,
         "Date": "2000-03-23"
        },
        {
         "Low": 109.56,
         "High": 115,
         "Close": 111.69,
         "Adj Close": 41.43,
         "Volume": 112196800,
         "Open": 112.62,
         "Date": "2000-03-24"
        },
        {
         "Low": 103.94,
         "High": 108.25,
         "Close": 104.06,
         "Adj Close": 38.6,
         "Volume": 111434000,
         "Open": 107.77,
         "Date": "2000-03-27"
        },
        {
         "Low": 102.37,
         "High": 107.44,
         "Close": 104.31,
         "Adj Close": 38.69,
         "Volume": 81114400,
         "Open": 103.62,
         "Date": "2000-03-28"
        }
       ]
      }
     },
     "output_type": "display_data",
     "text": []
    }
   ]
  },
  {
   "cell_type": "code",
   "execution_count": 2,
   "metadata": {
    "collapsed": false,
    "outputExpanded": false
   },
   "source": [
    "import IPython.display"
   ],
   "outputs": []
  },
  {
   "cell_type": "code",
   "execution_count": 4,
   "metadata": {
    "collapsed": false
   },
   "source": [
    "IPython.display.JSON(filename=\"only-table.ipynb\")"
   ],
   "outputs": []
  },
  {
   "cell_type": "code",
   "execution_count": null,
   "metadata": {
    "collapsed": false
   },
   "source": [],
   "outputs": []
  },
  {
   "cell_type": "code",
   "execution_count": null,
   "metadata": {
    "collapsed": false
   },
   "source": [],
   "outputs": []
  },
  {
   "cell_type": "code",
   "execution_count": null,
   "metadata": {
    "collapsed": false
   },
   "source": [],
   "outputs": []
  },
  {
   "cell_type": "code",
   "execution_count": null,
   "metadata": {
    "collapsed": false
   },
   "source": [],
   "outputs": []
  },
  {
   "cell_type": "code",
   "execution_count": null,
   "metadata": {
    "collapsed": false
   },
   "source": [],
   "outputs": []
  },
  {
   "cell_type": "code",
   "execution_count": null,
   "metadata": {
    "collapsed": false
   },
   "source": [],
   "outputs": []
  },
  {
   "cell_type": "code",
   "execution_count": null,
   "metadata": {
    "collapsed": false
   },
   "source": [],
   "outputs": []
  }
 ],
 "nbformat": 4,
 "nbformat_minor": 0,
 "metadata": {
  "kernelspec": {
   "name": "python3",
   "language": "python",
   "display_name": "Python 3"
  },
  "kernel_info": {
   "name": "python3"
  },
  "language_info": {
   "file_extension": ".py",
   "pygments_lexer": "ipython3",
   "nbconvert_exporter": "python",
   "version": "3.5.2",
   "mimetype": "text/x-python",
   "name": "python",
   "codemirror_mode": {
    "version": 3,
    "name": "ipython"
   }
  }
 }
}