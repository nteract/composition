{
  "cells": [
    {
      "cell_type": "code",
      "source": [
        "import IPython"
      ],
      "outputs": [],
      "execution_count": 1,
      "metadata": {
        "collapsed": false,
        "outputExpanded": false
      }
    },
    {
      "cell_type": "code",
      "source": [
        "import ipykernel"
      ],
      "outputs": [],
      "execution_count": 2,
      "metadata": {
        "collapsed": false,
        "outputExpanded": false
      }
    },
    {
      "cell_type": "code",
      "source": [
        "# a temporary patch of display for demonstration purposes\n",
        "ip = get_ipython()\n",
        "\n",
        "def display_with_id(content, display_id=None, update=False):\n",
        "    iopub = ip.kernel.iopub_socket\n",
        "    session = ip.kernel.session\n",
        "    msg_type = 'display_data'\n",
        "    session.send(iopub, msg_type, content, parent=ip.parent_header)\n",
        "\ndisplay = display_with_id"
      ],
      "outputs": [],
      "execution_count": 4,
      "metadata": {
        "collapsed": false,
        "outputHidden": false,
        "inputHidden": false
      }
    },
    {
      "cell_type": "code",
      "source": [
        "c = ipykernel.comm.Comm(target_name='setIn', target_module='reducers')\n",
        "c.comm_id"
      ],
      "outputs": [
        {
          "output_type": "execute_result",
          "execution_count": 6,
          "data": {
            "text/plain": [
              "'cfd3fc22bb54449fb7fcaa04a3a157c8'"
            ]
          },
          "metadata": {}
        }
      ],
      "execution_count": 6,
      "metadata": {
        "collapsed": false,
        "outputExpanded": false
      }
    },
    {
      "cell_type": "code",
      "source": [
        "display({\n",
        "  'data': {\n",
        "    'application/x-nteract-model-debug+json': 'asdfasf'\n",
        "  },\n",
        "  'metadata': {},\n",
        "  'transient': { 'model_id': c.comm_id }\n",
        "})"
      ],
      "outputs": [
        {
          "output_type": "display_data",
          "data": {
            "application/x-nteract-model-debug+json": "asdfasf"
          },
          "metadata": {}
        }
      ],
      "execution_count": 8,
      "metadata": {
        "collapsed": false,
        "outputExpanded": false
      }
    },
    {
      "cell_type": "code",
      "source": [
        "import time\n",
        "import random\n",
        "\n",
        "for ii in range(5) :\n",
        "  time.sleep(0.1)\n",
        "  c.send({'path': ['text'], 'value': random.random()})"
      ],
      "outputs": [],
      "execution_count": 10,
      "metadata": {
        "collapsed": false,
        "outputExpanded": false
      }
    },
    {
      "cell_type": "code",
      "source": [],
      "outputs": [],
      "execution_count": null,
      "metadata": {
        "collapsed": false,
        "outputExpanded": false
      }
    }
  ],
  "metadata": {
    "kernelspec": {
      "name": "python3",
      "language": "python",
      "display_name": "Python 3"
    },
    "kernel_info": {
      "name": "python3"
    },
    "language_info": {
      "name": "python",
      "version": "3.6.0",
      "mimetype": "text/x-python",
      "codemirror_mode": {
        "name": "ipython",
        "version": 3
      },
      "pygments_lexer": "ipython3",
      "nbconvert_exporter": "python",
      "file_extension": ".py"
    }
  },
  "nbformat": 4,
  "nbformat_minor": 0
}