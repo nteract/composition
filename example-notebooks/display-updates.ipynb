{
 "cells": [
  {
   "execution_count": null,
   "metadata,outputHidden": false,
   "metadata": {
    "collapsed": false
   },
   "outputs": [],
   "status": "",
   "metadata,outputExpanded": false,
   "cell_type": "markdown",
   "source": [
    "# Outputs you can update by name\n",
    "\n",
    "This notebook demonstrates the new name-based display functionality in the notebook. Previously, notebooks could only attach output to the cell that was currently being executed:\n",
    "\n"
   ]
  },
  {
   "execution_count": 14,
   "metadata,outputHidden": false,
   "metadata,outputExpanded": false,
   "metadata": {
    "collapsed": false
   },
   "outputs": [],
   "status": "idle",
   "cell_type": "code",
   "source": [
    "print(\"typical ouput\")"
   ]
  },
  {
   "cell_type": "markdown",
   "execution_count": null,
   "metadata": {
    "collapsed": false
   },
   "source": [
    "There was no simple way to make code in one cell to write output to another cell. Now there is!\n",
    "\n\n",
    "This feature is so new that we need to patch `display` until nteract depends on an IPython release which includes [ipython/ipykernel#204](https://github.com/ipython/ipykernel/pulls/204) and [ipython/ipython#10048](https://github.com/ipython/ipyhton/pulls/10048). So as a temporary workaround, we will define `display_with_id` and its signature and behavior will be provided with `display` in future versions of IPython.\n",
    "\n\n",
    "**You do not need to understand any of the code in the next cell**, just execute it so you can get to the fun stuff.\n"
   ],
   "outputs": [],
   "metadata,outputHidden": false,
   "metadata,outputExpanded": false,
   "status": ""
  },
  {
   "execution_count": 15,
   "metadata,outputHidden": false,
   "metadata": {
    "collapsed": false
   },
   "metadata,outputExpanded": false,
   "outputs": [],
   "status": "idle",
   "cell_type": "code",
   "source": [
    "# a temporary patch of display for demonstration purposes\n",
    "ip = get_ipython()\n",
    "\n",
    "def display_with_id(obj, display_id=None, update=False):\n",
    "    iopub = ip.kernel.iopub_socket\n",
    "    session = ip.kernel.session\n",
    "    data, md = ip.display_formatter.format(obj)\n",
    "    transient = {'display_id': display_id}\n",
    "    content = {'data': data, 'metadata': md, 'transient': transient}\n",
    "    if display_id is None: content.pop('transient')  # make display_id option\n",
    "    msg_type = 'update_display_data' if update else 'display_data'\n",
    "    session.send(iopub, msg_type, content, parent=ip.parent_header)\n",
    "\ndisplay = display_with_id"
   ]
  },
  {
   "cell_type": "markdown",
   "metadata": {},
   "source": [
    "## The fun stuff\n",
    "\nYou made it! Pat yourself on the back and take a deep breath, the scariest part is over. The `display` function now has an optional `display_id` parameter. Let's give our next display the boring name and call it *some_destination*."
   ],
   "outputs": [],
   "metadata,outputHidden": false,
   "metadata,outputExpanded": false,
   "status": ""
  },
  {
   "execution_count": 16,
   "metadata,outputHidden": false,
   "metadata,outputExpanded": false,
   "metadata": {
    "collapsed": false
   },
   "outputs": [],
   "status": "idle",
   "cell_type": "code",
   "source": [
    "display('initial display', 'some_destination')"
   ]
  },
  {
   "cell_type": "markdown",
   "metadata": {},
   "source": [
    "Ok, so far, nothing earth shattering. But what happens if you call display with the same `display_id` again?\n",
    "\n\n\n"
   ],
   "outputs": [],
   "metadata,outputHidden": false,
   "metadata,outputExpanded": false,
   "status": ""
  },
  {
   "metadata,outputHidden": false,
   "metadata,outputExpanded": false,
   "execution_count": 17,
   "metadata": {
    "collapsed": false
   },
   "outputs": [],
   "status": "idle",
   "cell_type": "code",
   "source": [
    "display('spoler alert: output updated in both', 'some_destination')\t\t\t"
   ]
  },
  {
   "cell_type": "markdown",
   "metadata": {},
   "source": [
    "Fantastic! We have a way of mirroring output in multiple places. But what if you only want update the previously named displays, without creating a new one? Just call `display` with `update=True`, like this:"
   ],
   "outputs": [],
   "metadata,outputHidden": false,
   "metadata,outputExpanded": false,
   "status": ""
  },
  {
   "metadata,outputHidden": false,
   "metadata,outputExpanded": false,
   "execution_count": 18,
   "metadata": {
    "collapsed": false
   },
   "outputs": [],
   "status": "idle",
   "cell_type": "code",
   "source": [
    "display('no output here, update above', 'some_destination', update=True)\t\t\t"
   ]
  },
  {
   "cell_type": "markdown",
   "metadata": {},
   "source": [
    "Though we have been working with text so far, this also works for the all other output types. Let's make an HTML-based progress bar!"
   ],
   "metadata,outputHidden": false,
   "metadata,outputExpanded": false,
   "status": "",
   "outputs": []
  },
  {
   "execution_count": 19,
   "metadata,outputHidden": false,
   "metadata": {
    "collapsed": false
   },
   "metadata,outputExpanded": false,
   "outputs": [],
   "status": "idle",
   "cell_type": "code",
   "source": [
    "import os\n",
    "from binascii import hexlify\n",
    "\n",
    "class ProgressBar(object):\n",
    "    def __init__(self, capacity):\n",
    "        self.progress = 0\n",
    "        self.capacity = capacity\n",
    "        self._display_id = hexlify(os.urandom(8)).decode('ascii')\n",
    "        \n",
    "    def _repr_html_(self):\n",
    "        return \"<progress style='width:100%' max='{}' value='{}'></progress>\".format(self.capacity, self.progress)\n",
    "    \n",
    "    def display(self):\n",
    "        display_with_id(self, display_id=self._display_id)\n",
    "    \n",
    "    def update(self):\n",
    "        display_with_id(self, display_id=self._display_id, update=True)\n",
    "\n",
    "bar = ProgressBar(100)\n",
    "bar.display()"
   ]
  },
  {
   "cell_type": "markdown",
   "metadata": {},
   "source": [
    "The progress bar is drawn and it starts off at `0`. Fill it up half way and call its `update` method to get a redraw. "
   ],
   "outputs": [],
   "metadata,outputHidden": false,
   "metadata,outputExpanded": false,
   "status": ""
  },
  {
   "metadata,outputHidden": false,
   "metadata,outputExpanded": false,
   "execution_count": 20,
   "metadata": {
    "collapsed": false
   },
   "outputs": [],
   "status": "idle",
   "cell_type": "code",
   "source": [
    "bar.progress = 50\n",
    "bar.update()"
   ]
  },
  {
   "cell_type": "markdown",
   "metadata": {},
   "source": [
    "Now go half-way again"
   ],
   "metadata,outputHidden": false,
   "metadata,outputExpanded": false,
   "status": "",
   "outputs": []
  },
  {
   "metadata,outputHidden": false,
   "metadata,outputExpanded": false,
   "execution_count": 21,
   "metadata": {
    "collapsed": false
   },
   "outputs": [],
   "status": "idle",
   "cell_type": "code",
   "source": [
    "bar.progress = 75\n",
    "bar.update()"
   ]
  },
  {
   "cell_type": "markdown",
   "metadata": {},
   "source": [
    "Our original bar is kind of far away now, let's get another view of it below."
   ],
   "metadata,outputHidden": false,
   "metadata,outputExpanded": false,
   "status": "",
   "outputs": []
  },
  {
   "cell_type": "code",
   "execution_count": 22,
   "metadata": {
    "collapsed": false
   },
   "source": [
    "bar"
   ],
   "outputs": [],
   "status": "idle",
   "metadata,outputHidden": false,
   "metadata,outputExpanded": false
  },
  {
   "cell_type": "markdown",
   "metadata": {},
   "source": [
    "Much better. Let's make a little animation that [Zeno](https://en.wikipedia.org/wiki/Zeno%27s_paradoxes#Dichotomy_paradox) would be proud of:"
   ],
   "metadata,outputHidden": false,
   "metadata,outputExpanded": false,
   "status": "",
   "outputs": []
  },
  {
   "execution_count": 23,
   "metadata,outputHidden": false,
   "metadata,outputExpanded": false,
   "metadata": {
    "collapsed": false
   },
   "outputs": [],
   "status": "idle",
   "cell_type": "code",
   "source": [
    "import time\n",
    "bar.progress = 0\n",
    "for _ in range(5):\n",
    "    time.sleep(1)\n",
    "    bar.progress += (bar.capacity - bar.progress) / 2.\n",
    "    bar.update()"
   ]
  },
  {
   "cell_type": "markdown",
   "metadata": {},
   "source": [
    "You might have noticed that each `ProgressBar` autogenerates a random `display_id` which is handy if you want to have several of them.\n",
    "\n"
   ],
   "metadata,outputHidden": false,
   "metadata,outputExpanded": false,
   "status": "",
   "outputs": []
  },
  {
   "cell_type": "code",
   "execution_count": 24,
   "metadata": {
    "collapsed": false
   },
   "source": [
    "num_bars = 5\n",
    "bars = [ProgressBar(100) for _ in range(num_bars)]\n",
    "\n",
    "for b in bars:\n",
    "    display(b)"
   ],
   "outputs": [],
   "status": "idle",
   "metadata,outputHidden": false,
   "metadata,outputExpanded": false
  },
  {
   "cell_type": "code",
   "execution_count": 25,
   "metadata": {
    "collapsed": false
   },
   "source": [
    "import random \n",
    "for x in range(20):\n",
    "    time.sleep(.1)\n",
    "    idx = random.randrange(num_bars)\n",
    "    bars[idx].progress +=  random.randint(-2, 10)"
   ],
   "outputs": [],
   "status": "idle",
   "metadata,outputHidden": false,
   "metadata,outputExpanded": false
  },
  {
   "cell_type": "code",
   "execution_count": 26,
   "metadata": {
    "collapsed": false
   },
   "source": [
    "for b in bars:\n",
    "    display(b)"
   ],
   "outputs": [],
   "status": "idle",
   "metadata,outputHidden": false,
   "metadata,outputExpanded": false
  }
 ],
 "nbformat": 4,
 "nbformat_minor": 0,
 "metadata": {
  "kernelspec": {
   "name": "python3",
   "language": "python",
   "display_name": "Python 3"
  },
  "kernel_info": {
   "name": "python3"
  },
  "language_info": {
   "file_extension": ".py",
   "name": "python",
   "codemirror_mode": {
    "name": "ipython",
    "version": 3
   },
   "pygments_lexer": "ipython3",
   "mimetype": "text/x-python",
   "version": "3.5.2",
   "nbconvert_exporter": "python"
  }
 }
}