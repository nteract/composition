{
  "cells": [
    {
      "cell_type": "code",
      "source": [
        "from graphviz import Digraph\n",
        "\n",
        "def dotsplay(self):\n",
        "    display({\n",
        "        'text/vnd.graphviz': self.source\n",
        "    }, raw=True)\n",
        "\nDigraph._ipython_display_ = dotsplay"
      ],
      "outputs": [],
      "execution_count": 71,
      "metadata": {
        "collapsed": false,
        "outputHidden": false,
        "inputHidden": false
      }
    },
    {
      "cell_type": "code",
      "source": [
        "dot = Digraph(comment='Jupyter Architecture')\n",
        "\n",
        "dot.node('kernel', 'Kernel (Python)')\n",
        "dot.node('frontend', 'Frontend (Notebook)')\n",
        "\n",
        "dot.edge('kernel', 'frontend')\n",
        "\n",
        "dot.node('user', 'User (you!)')\n",
        "dot.edge('frontend', 'user')\n",
        "\ndot"
      ],
      "outputs": [
        {
          "output_type": "display_data",
          "data": {
            "text/vnd.graphviz": [
              "// Jupyter Architecture\n",
              "digraph {\n",
              "\tkernel [label=\"Kernel (Python)\"]\n",
              "\tfrontend [label=\"Frontend (Notebook)\"]\n",
              "\tkernel -> frontend\n",
              "\tuser [label=\"User (you!)\"]\n",
              "\tfrontend -> user\n",
              "}"
            ]
          },
          "metadata": {}
        }
      ],
      "execution_count": 72,
      "metadata": {
        "collapsed": false,
        "outputHidden": false,
        "inputHidden": false
      }
    },
    {
      "cell_type": "code",
      "source": [
        "print(dot.source)"
      ],
      "outputs": [
        {
          "output_type": "stream",
          "name": "stdout",
          "text": [
            "// Jupyter Architecture\n",
            "digraph {\n",
            "\tkernel [label=\"Kernel (Python)\"]\n",
            "\tfrontend [label=\"Frontend (Notebook)\"]\n",
            "\tkernel -> frontend\n",
            "\tuser [label=\"User (you!)\"]\n",
            "\tfrontend -> user\n",
            "}\n"
          ]
        }
      ],
      "execution_count": 73,
      "metadata": {
        "collapsed": false,
        "outputHidden": false,
        "inputHidden": false
      }
    },
    {
      "cell_type": "code",
      "source": [],
      "outputs": [],
      "execution_count": null,
      "metadata": {
        "collapsed": false,
        "outputHidden": false,
        "inputHidden": false
      }
    }
  ],
  "metadata": {
    "kernelspec": {
      "name": "python",
      "language": "python",
      "display_name": "Python 3"
    },
    "kernel_info": {
      "name": "python"
    },
    "language_info": {
      "name": "python",
      "version": "3.6.1",
      "mimetype": "text/x-python",
      "codemirror_mode": {
        "name": "ipython",
        "version": 3
      },
      "pygments_lexer": "ipython3",
      "nbconvert_exporter": "python",
      "file_extension": ".py"
    },
    "nteract": {
      "version": "0.1.0"
    }
  },
  "nbformat": 4,
  "nbformat_minor": 4
}