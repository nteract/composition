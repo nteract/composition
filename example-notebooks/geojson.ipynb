{
	"cells": [{
			"cell_type": "code",
			"execution_count": 1,
			"metadata": {
				"collapsed": false
			},
			"outputs": [],
			"source": [
				"from IPython.display import GeoJSON"
			]
		},
		{
			"cell_type": "code",
			"execution_count": 2,
			"metadata": {
				"collapsed": false
			},
			"outputs": [],
			"source": [
				"data = {\n",
				"\t\"type\": \"FeatureCollection\",\n",
				"\t\"features\": [{\n",
				"\t\t\"type\": \"Feature\",\n",
				"\t\t\"properties\": {\n",
				"\t\t\t\"place\": \"The coffee bar\",\n",
				"\t\t\t\"login\": \"espresso\",\n",
				"\t\t\t\"lat\": \"38.91427\",\n",
				"\t\t\t\"lon\": \"-77.02827\"\n",
				"\t\t},\n",
				"\t\t\"geometry\": {\n",
				"\t\t\t\"type\": \"Point\",\n",
				"\t\t\t\"coordinates\": [-77.02827, 38.91427]\n",
				"\t\t}\n",
				"\t}, {\n",
				"\t\t\"type\": \"Feature\",\n",
				"\t\t\"properties\": {\n",
				"\t\t\t\"place\": \"Bistro Bohem\",\n",
				"\t\t\t\"login\": \"2027355895\",\n",
				"\t\t\t\"lat\": \"38.91538\",\n",
				"\t\t\t\"lon\": \"-77.02013\"\n",
				"\t\t},\n",
				"\t\t\"geometry\": {\n",
				"\t\t\t\"type\": \"Point\",\n",
				"\t\t\t\"coordinates\": [-77.02013, 38.91538]\n",
				"\t\t}\n",
				"\t}, {\n",
				"\t\t\"type\": \"Feature\",\n",
				"\t\t\"properties\": {\n",
				"\t\t\t\"place\": \"Black Cat\",\n",
				"\t\t\t\"login\": \"luckycat\",\n",
				"\t\t\t\"lat\": \"38.91458\",\n",
				"\t\t\t\"lon\": \"-77.03155\"\n",
				"\t\t},\n",
				"\t\t\"geometry\": {\n",
				"\t\t\t\"type\": \"Point\",\n",
				"\t\t\t\"coordinates\": [-77.03155, 38.91458]\n",
				"\t\t}\n",
				"\t}, {\n",
				"\t\t\"type\": \"Feature\",\n",
				"\t\t\"properties\": {\n",
				"\t\t\t\"place\": \"Snap\",\n",
				"\t\t\t\"login\": \"nutella1\",\n",
				"\t\t\t\"lat\": \"38.92239\",\n",
				"\t\t\t\"lon\": \"-77.04227\"\n",
				"\t\t},\n",
				"\t\t\"geometry\": {\n",
				"\t\t\t\"type\": \"Point\",\n",
				"\t\t\t\"coordinates\": [-77.04227, 38.92239]\n",
				"\t\t}\n",
				"\t}, {\n",
				"\t\t\"type\": \"Feature\",\n",
				"\t\t\"properties\": {\n",
				"\t\t\t\"place\": \"Columbia Heights Coffee\",\n",
				"\t\t\t\"login\": \"FAIRTRADE1\",\n",
				"\t\t\t\"lat\": \"38.93222\",\n",
				"\t\t\t\"lon\": \"-77.02854\"\n",
				"\t\t},\n",
				"\t\t\"geometry\": {\n",
				"\t\t\t\"type\": \"Point\",\n",
				"\t\t\t\"coordinates\": [-77.02854, 38.93222]\n",
				"\t\t}\n",
				"\t}, {\n",
				"\t\t\"type\": \"Feature\",\n",
				"\t\t\"properties\": {\n",
				"\t\t\t\"place\": \"Azi's Cafe\",\n",
				"\t\t\t\"login\": \"sunny\",\n",
				"\t\t\t\"lat\": \"38.90842\",\n",
				"\t\t\t\"lon\": \"-77.02419\"\n",
				"\t\t},\n",
				"\t\t\"geometry\": {\n",
				"\t\t\t\"type\": \"Point\",\n",
				"\t\t\t\"coordinates\": [-77.02419, 38.90842]\n",
				"\t\t}\n",
				"\t}, {\n",
				"\t\t\"type\": \"Feature\",\n",
				"\t\t\"properties\": {\n",
				"\t\t\t\"place\": \"Blind Dog Cafe\",\n",
				"\t\t\t\"login\": \"baxtercantsee\",\n",
				"\t\t\t\"lat\": \"38.91931\",\n",
				"\t\t\t\"lon\": \"-77.02518\"\n",
				"\t\t},\n",
				"\t\t\"geometry\": {\n",
				"\t\t\t\"type\": \"Point\",\n",
				"\t\t\t\"coordinates\": [-77.02518, 38.91931]\n",
				"\t\t}\n",
				"\t}, {\n",
				"\t\t\"type\": \"Feature\",\n",
				"\t\t\"properties\": {\n",
				"\t\t\t\"place\": \"Le Caprice\",\n",
				"\t\t\t\"login\": \"baguette\",\n",
				"\t\t\t\"lat\": \"38.93260\",\n",
				"\t\t\t\"lon\": \"-77.03304\"\n",
				"\t\t},\n",
				"\t\t\"geometry\": {\n",
				"\t\t\t\"type\": \"Point\",\n",
				"\t\t\t\"coordinates\": [-77.03304, 38.9326]\n",
				"\t\t}\n",
				"\t}, {\n",
				"\t\t\"type\": \"Feature\",\n",
				"\t\t\"properties\": {\n",
				"\t\t\t\"place\": \"Filter\",\n",
				"\t\t\t\"login\": \"\",\n",
				"\t\t\t\"lat\": \"38.91368\",\n",
				"\t\t\t\"lon\": \"-77.04509\"\n",
				"\t\t},\n",
				"\t\t\"geometry\": {\n",
				"\t\t\t\"type\": \"Point\",\n",
				"\t\t\t\"coordinates\": [-77.04509, 38.91368]\n",
				"\t\t}\n",
				"\t}, {\n",
				"\t\t\"type\": \"Feature\",\n",
				"\t\t\"properties\": {\n",
				"\t\t\t\"place\": \"Peregrine\",\n",
				"\t\t\t\"login\": \"espresso\",\n",
				"\t\t\t\"lat\": \"38.88516\",\n",
				"\t\t\t\"lon\": \"-76.99656\"\n",
				"\t\t},\n",
				"\t\t\"geometry\": {\n",
				"\t\t\t\"type\": \"Point\",\n",
				"\t\t\t\"coordinates\": [-76.99656, 38.88516]\n",
				"\t\t}\n",
				"\t}, {\n",
				"\t\t\"type\": \"Feature\",\n",
				"\t\t\"properties\": {\n",
				"\t\t\t\"place\": \"Tryst\",\n",
				"\t\t\t\"login\": \"coupetnt\",\n",
				"\t\t\t\"lat\": \"38.921894\",\n",
				"\t\t\t\"lon\": \"-77.042438\"\n",
				"\t\t},\n",
				"\t\t\"geometry\": {\n",
				"\t\t\t\"type\": \"Point\",\n",
				"\t\t\t\"coordinates\": [-77.042438, 38.921894]\n",
				"\t\t}\n",
				"\t}, {\n",
				"\t\t\"type\": \"Feature\",\n",
				"\t\t\"properties\": {\n",
				"\t\t\t\"place\": \"The Coupe\",\n",
				"\t\t\t\"login\": \"voteforus\",\n",
				"\t\t\t\"lat\": \"38.93206\",\n",
				"\t\t\t\"lon\": \"-77.02821\"\n",
				"\t\t},\n",
				"\t\t\"geometry\": {\n",
				"\t\t\t\"type\": \"Point\",\n",
				"\t\t\t\"coordinates\": [-77.02821, 38.93206]\n",
				"\t\t}\n",
				"\t}, {\n",
				"\t\t\"type\": \"Feature\",\n",
				"\t\t\"properties\": {\n",
				"\t\t\t\"place\": \"Big Bear Cafe\",\n",
				"\t\t\t\"login\": \"\",\n",
				"\t\t\t\"lat\": \"38.91275\",\n",
				"\t\t\t\"lon\": \"-77.01239\"\n",
				"\t\t},\n",
				"\t\t\"geometry\": {\n",
				"\t\t\t\"type\": \"Point\",\n",
				"\t\t\t\"coordinates\": [-77.01239, 38.91275]\n",
				"\t\t}\n",
				"\t}]\n",
				"}"
			]
		},
		{
			"cell_type": "code",
			"execution_count": 3,
			"metadata": {
				"collapsed": false
			},
			"outputs": [{
				"data": {
					"application/geo+json": {
						"features": [{
								"geometry": {
									"coordinates": [-77.02827,
										38.91427
									],
									"type": "Point"
								},
								"properties": {
									"lat": "38.91427",
									"login": "espresso",
									"lon": "-77.02827",
									"place": "The coffee bar"
								},
								"type": "Feature"
							},
							{
								"geometry": {
									"coordinates": [-77.02013,
										38.91538
									],
									"type": "Point"
								},
								"properties": {
									"lat": "38.91538",
									"login": "2027355895",
									"lon": "-77.02013",
									"place": "Bistro Bohem"
								},
								"type": "Feature"
							},
							{
								"geometry": {
									"coordinates": [-77.03155,
										38.91458
									],
									"type": "Point"
								},
								"properties": {
									"lat": "38.91458",
									"login": "luckycat",
									"lon": "-77.03155",
									"place": "Black Cat"
								},
								"type": "Feature"
							},
							{
								"geometry": {
									"coordinates": [-77.04227,
										38.92239
									],
									"type": "Point"
								},
								"properties": {
									"lat": "38.92239",
									"login": "nutella1",
									"lon": "-77.04227",
									"place": "Snap"
								},
								"type": "Feature"
							},
							{
								"geometry": {
									"coordinates": [-77.02854,
										38.93222
									],
									"type": "Point"
								},
								"properties": {
									"lat": "38.93222",
									"login": "FAIRTRADE1",
									"lon": "-77.02854",
									"place": "Columbia Heights Coffee"
								},
								"type": "Feature"
							},
							{
								"geometry": {
									"coordinates": [-77.02419,
										38.90842
									],
									"type": "Point"
								},
								"properties": {
									"lat": "38.90842",
									"login": "sunny",
									"lon": "-77.02419",
									"place": "Azi's Cafe"
								},
								"type": "Feature"
							},
							{
								"geometry": {
									"coordinates": [-77.02518,
										38.91931
									],
									"type": "Point"
								},
								"properties": {
									"lat": "38.91931",
									"login": "baxtercantsee",
									"lon": "-77.02518",
									"place": "Blind Dog Cafe"
								},
								"type": "Feature"
							},
							{
								"geometry": {
									"coordinates": [-77.03304,
										38.9326
									],
									"type": "Point"
								},
								"properties": {
									"lat": "38.93260",
									"login": "baguette",
									"lon": "-77.03304",
									"place": "Le Caprice"
								},
								"type": "Feature"
							},
							{
								"geometry": {
									"coordinates": [-77.04509,
										38.91368
									],
									"type": "Point"
								},
								"properties": {
									"lat": "38.91368",
									"login": "",
									"lon": "-77.04509",
									"place": "Filter"
								},
								"type": "Feature"
							},
							{
								"geometry": {
									"coordinates": [-76.99656,
										38.88516
									],
									"type": "Point"
								},
								"properties": {
									"lat": "38.88516",
									"login": "espresso",
									"lon": "-76.99656",
									"place": "Peregrine"
								},
								"type": "Feature"
							},
							{
								"geometry": {
									"coordinates": [-77.042438,
										38.921894
									],
									"type": "Point"
								},
								"properties": {
									"lat": "38.921894",
									"login": "coupetnt",
									"lon": "-77.042438",
									"place": "Tryst"
								},
								"type": "Feature"
							},
							{
								"geometry": {
									"coordinates": [-77.02821,
										38.93206
									],
									"type": "Point"
								},
								"properties": {
									"lat": "38.93206",
									"login": "voteforus",
									"lon": "-77.02821",
									"place": "The Coupe"
								},
								"type": "Feature"
							},
							{
								"geometry": {
									"coordinates": [-77.01239,
										38.91275
									],
									"type": "Point"
								},
								"properties": {
									"lat": "38.91275",
									"login": "",
									"lon": "-77.01239",
									"place": "Big Bear Cafe"
								},
								"type": "Feature"
							}
						],
						"type": "FeatureCollection"
					},
					"text/plain": [
						"<IPython.display.GeoJSON object>"
					]
				},
				"metadata": {
					"application/geo+json": {
						"expanded": false
					}
				},
				"output_type": "display_data"
			}],
			"source": [
				"GeoJSON(data)"
			]
		},
		{
			"cell_type": "code",
			"execution_count": 5,
			"metadata": {},
			"outputs": [{
				"data": {
					"application/geo+json": {
						"geometry": {
							"coordinates": [
								11.8, -45.04
							],
							"type": "Point"
						},
						"type": "Feature"
					},
					"text/plain": [
						"<IPython.display.GeoJSON object>"
					]
				},
				"metadata": {
					"application/geo+json": {
						"expanded": false,
						"layer_options": {
							"attribution": "NASA/MOLA",
							"basemap_id": "mola-color",
							"maxZoom": 6,
							"minZoom": 0,
							"tms": true
						},
						"url_template": "http://s3-eu-west-1.amazonaws.com/whereonmars.cartodb.net/{basemap_id}/{z}/{x}/{y}.png"
					}
				},
				"output_type": "display_data"
			}],
			"source": [
				"GeoJSON(data={\n",
				"    \"type\": \"Feature\",\n",
				"    \"geometry\": {\n",
				"        \"type\": \"Point\",\n",
				"        \"coordinates\": [11.8, -45.04]\n",
				"    }\n",
				"}, url_template=\"http://s3-eu-west-1.amazonaws.com/whereonmars.cartodb.net/{basemap_id}/{z}/{x}/{y}.png\", \n",
				"layer_options={\n",
				"    \"basemap_id\": \"mola-color\",\n",
				"    \"attribution\" : \"NASA/MOLA\",\n",
				"    \"tms\": True,\n",
				"    \"minZoom\" : 0,\n",
				"    \"maxZoom\" : 6\n",
				"})"
			]
		},
		{
			"cell_type": "code",
			"execution_count": null,
			"metadata": {},
			"outputs": [],
			"source": []
		}
	],
	"metadata": {
		"kernel_info": {
			"name": "python3"
		},
		"kernelspec": {
			"display_name": "Python 3",
			"language": "python",
			"name": "python3"
		},
		"language_info": {
			"codemirror_mode": {
				"name": "ipython",
				"version": 3
			},
			"file_extension": ".py",
			"mimetype": "text/x-python",
			"name": "python",
			"nbconvert_exporter": "python",
			"pygments_lexer": "ipython3",
			"version": "3.5.2"
		}
	},
	"nbformat": 4,
	"nbformat_minor": 1
}
