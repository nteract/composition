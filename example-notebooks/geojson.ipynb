{
  "cells": [
    {
      "cell_type": "code",
      "source": [
        "# With the release of IPython 6 (coming April 2017), there's a GeoJSON display class that allows you to visualize GeoJSON data quickly.\n",
        "# from IPython.display import GeoJSON\n",
        "# In the meantime...\n",
        "from IPython.display import display\n",
        "def GeoJSON(data, **kwargs):\n",
        "    bundle = {\n",
        "        'application/geo+json': data,\n",
        "        'text/plain': '<IPython.display.GeoJSON object>'\n",
        "    }\n",
        "    metadata = {\n",
        "        'application/geo+json': kwargs\n",
        "    }\n",
        "    display(bundle, metadata=metadata, raw=True)"
      ],
      "outputs": [],
      "execution_count": 6,
      "metadata": {
        "collapsed": false
      }
    },
    {
      "cell_type": "code",
      "source": [
        "data = {\n",
        "\t\"type\": \"FeatureCollection\",\n",
        "\t\"features\": [{\n",
        "\t\t\"type\": \"Feature\",\n",
        "\t\t\"properties\": {\n",
        "\t\t\t\"place\": \"The coffee bar\",\n",
        "\t\t\t\"login\": \"espresso\",\n",
        "\t\t\t\"lat\": \"38.91427\",\n",
        "\t\t\t\"lon\": \"-77.02827\"\n",
        "\t\t},\n",
        "\t\t\"geometry\": {\n",
        "\t\t\t\"type\": \"Point\",\n",
        "\t\t\t\"coordinates\": [-77.02827, 38.91427]\n",
        "\t\t}\n",
        "\t}, {\n",
        "\t\t\"type\": \"Feature\",\n",
        "\t\t\"properties\": {\n",
        "\t\t\t\"place\": \"Bistro Bohem\",\n",
        "\t\t\t\"login\": \"2027355895\",\n",
        "\t\t\t\"lat\": \"38.91538\",\n",
        "\t\t\t\"lon\": \"-77.02013\"\n",
        "\t\t},\n",
        "\t\t\"geometry\": {\n",
        "\t\t\t\"type\": \"Point\",\n",
        "\t\t\t\"coordinates\": [-77.02013, 38.91538]\n",
        "\t\t}\n",
        "\t}, {\n",
        "\t\t\"type\": \"Feature\",\n",
        "\t\t\"properties\": {\n",
        "\t\t\t\"place\": \"Black Cat\",\n",
        "\t\t\t\"login\": \"luckycat\",\n",
        "\t\t\t\"lat\": \"38.91458\",\n",
        "\t\t\t\"lon\": \"-77.03155\"\n",
        "\t\t},\n",
        "\t\t\"geometry\": {\n",
        "\t\t\t\"type\": \"Point\",\n",
        "\t\t\t\"coordinates\": [-77.03155, 38.91458]\n",
        "\t\t}\n",
        "\t}, {\n",
        "\t\t\"type\": \"Feature\",\n",
        "\t\t\"properties\": {\n",
        "\t\t\t\"place\": \"Snap\",\n",
        "\t\t\t\"login\": \"nutella1\",\n",
        "\t\t\t\"lat\": \"38.92239\",\n",
        "\t\t\t\"lon\": \"-77.04227\"\n",
        "\t\t},\n",
        "\t\t\"geometry\": {\n",
        "\t\t\t\"type\": \"Point\",\n",
        "\t\t\t\"coordinates\": [-77.04227, 38.92239]\n",
        "\t\t}\n",
        "\t}, {\n",
        "\t\t\"type\": \"Feature\",\n",
        "\t\t\"properties\": {\n",
        "\t\t\t\"place\": \"Columbia Heights Coffee\",\n",
        "\t\t\t\"login\": \"FAIRTRADE1\",\n",
        "\t\t\t\"lat\": \"38.93222\",\n",
        "\t\t\t\"lon\": \"-77.02854\"\n",
        "\t\t},\n",
        "\t\t\"geometry\": {\n",
        "\t\t\t\"type\": \"Point\",\n",
        "\t\t\t\"coordinates\": [-77.02854, 38.93222]\n",
        "\t\t}\n",
        "\t}, {\n",
        "\t\t\"type\": \"Feature\",\n",
        "\t\t\"properties\": {\n",
        "\t\t\t\"place\": \"Azi's Cafe\",\n",
        "\t\t\t\"login\": \"sunny\",\n",
        "\t\t\t\"lat\": \"38.90842\",\n",
        "\t\t\t\"lon\": \"-77.02419\"\n",
        "\t\t},\n",
        "\t\t\"geometry\": {\n",
        "\t\t\t\"type\": \"Point\",\n",
        "\t\t\t\"coordinates\": [-77.02419, 38.90842]\n",
        "\t\t}\n",
        "\t}, {\n",
        "\t\t\"type\": \"Feature\",\n",
        "\t\t\"properties\": {\n",
        "\t\t\t\"place\": \"Blind Dog Cafe\",\n",
        "\t\t\t\"login\": \"baxtercantsee\",\n",
        "\t\t\t\"lat\": \"38.91931\",\n",
        "\t\t\t\"lon\": \"-77.02518\"\n",
        "\t\t},\n",
        "\t\t\"geometry\": {\n",
        "\t\t\t\"type\": \"Point\",\n",
        "\t\t\t\"coordinates\": [-77.02518, 38.91931]\n",
        "\t\t}\n",
        "\t}, {\n",
        "\t\t\"type\": \"Feature\",\n",
        "\t\t\"properties\": {\n",
        "\t\t\t\"place\": \"Le Caprice\",\n",
        "\t\t\t\"login\": \"baguette\",\n",
        "\t\t\t\"lat\": \"38.93260\",\n",
        "\t\t\t\"lon\": \"-77.03304\"\n",
        "\t\t},\n",
        "\t\t\"geometry\": {\n",
        "\t\t\t\"type\": \"Point\",\n",
        "\t\t\t\"coordinates\": [-77.03304, 38.9326]\n",
        "\t\t}\n",
        "\t}, {\n",
        "\t\t\"type\": \"Feature\",\n",
        "\t\t\"properties\": {\n",
        "\t\t\t\"place\": \"Filter\",\n",
        "\t\t\t\"login\": \"\",\n",
        "\t\t\t\"lat\": \"38.91368\",\n",
        "\t\t\t\"lon\": \"-77.04509\"\n",
        "\t\t},\n",
        "\t\t\"geometry\": {\n",
        "\t\t\t\"type\": \"Point\",\n",
        "\t\t\t\"coordinates\": [-77.04509, 38.91368]\n",
        "\t\t}\n",
        "\t}, {\n",
        "\t\t\"type\": \"Feature\",\n",
        "\t\t\"properties\": {\n",
        "\t\t\t\"place\": \"Peregrine\",\n",
        "\t\t\t\"login\": \"espresso\",\n",
        "\t\t\t\"lat\": \"38.88516\",\n",
        "\t\t\t\"lon\": \"-76.99656\"\n",
        "\t\t},\n",
        "\t\t\"geometry\": {\n",
        "\t\t\t\"type\": \"Point\",\n",
        "\t\t\t\"coordinates\": [-76.99656, 38.88516]\n",
        "\t\t}\n",
        "\t}, {\n",
        "\t\t\"type\": \"Feature\",\n",
        "\t\t\"properties\": {\n",
        "\t\t\t\"place\": \"Tryst\",\n",
        "\t\t\t\"login\": \"coupetnt\",\n",
        "\t\t\t\"lat\": \"38.921894\",\n",
        "\t\t\t\"lon\": \"-77.042438\"\n",
        "\t\t},\n",
        "\t\t\"geometry\": {\n",
        "\t\t\t\"type\": \"Point\",\n",
        "\t\t\t\"coordinates\": [-77.042438, 38.921894]\n",
        "\t\t}\n",
        "\t}, {\n",
        "\t\t\"type\": \"Feature\",\n",
        "\t\t\"properties\": {\n",
        "\t\t\t\"place\": \"The Coupe\",\n",
        "\t\t\t\"login\": \"voteforus\",\n",
        "\t\t\t\"lat\": \"38.93206\",\n",
        "\t\t\t\"lon\": \"-77.02821\"\n",
        "\t\t},\n",
        "\t\t\"geometry\": {\n",
        "\t\t\t\"type\": \"Point\",\n",
        "\t\t\t\"coordinates\": [-77.02821, 38.93206]\n",
        "\t\t}\n",
        "\t}, {\n",
        "\t\t\"type\": \"Feature\",\n",
        "\t\t\"properties\": {\n",
        "\t\t\t\"place\": \"Big Bear Cafe\",\n",
        "\t\t\t\"login\": \"\",\n",
        "\t\t\t\"lat\": \"38.91275\",\n",
        "\t\t\t\"lon\": \"-77.01239\"\n",
        "\t\t},\n",
        "\t\t\"geometry\": {\n",
        "\t\t\t\"type\": \"Point\",\n",
        "\t\t\t\"coordinates\": [-77.01239, 38.91275]\n",
        "\t\t}\n",
        "\t}]\n",
        "}"
      ],
      "outputs": [],
      "execution_count": 2,
      "metadata": {
        "collapsed": false
      }
    },
    {
      "cell_type": "code",
      "source": [
        "GeoJSON(data)"
      ],
      "outputs": [
        {
          "output_type": "display_data",
          "data": {
            "application/geo+json": {
              "features": [
                {
                  "geometry": {
                    "type": "Point",
                    "coordinates": [
                      -77.02827,
                      38.91427
                    ]
                  },
                  "properties": {
                    "login": "espresso",
                    "place": "The coffee bar",
                    "lon": "-77.02827",
                    "lat": "38.91427"
                  },
                  "type": "Feature"
                },
                {
                  "geometry": {
                    "type": "Point",
                    "coordinates": [
                      -77.02013,
                      38.91538
                    ]
                  },
                  "properties": {
                    "login": "2027355895",
                    "place": "Bistro Bohem",
                    "lon": "-77.02013",
                    "lat": "38.91538"
                  },
                  "type": "Feature"
                },
                {
                  "geometry": {
                    "type": "Point",
                    "coordinates": [
                      -77.03155,
                      38.91458
                    ]
                  },
                  "properties": {
                    "login": "luckycat",
                    "place": "Black Cat",
                    "lon": "-77.03155",
                    "lat": "38.91458"
                  },
                  "type": "Feature"
                },
                {
                  "geometry": {
                    "type": "Point",
                    "coordinates": [
                      -77.04227,
                      38.92239
                    ]
                  },
                  "properties": {
                    "login": "nutella1",
                    "place": "Snap",
                    "lon": "-77.04227",
                    "lat": "38.92239"
                  },
                  "type": "Feature"
                },
                {
                  "geometry": {
                    "type": "Point",
                    "coordinates": [
                      -77.02854,
                      38.93222
                    ]
                  },
                  "properties": {
                    "login": "FAIRTRADE1",
                    "place": "Columbia Heights Coffee",
                    "lon": "-77.02854",
                    "lat": "38.93222"
                  },
                  "type": "Feature"
                },
                {
                  "geometry": {
                    "type": "Point",
                    "coordinates": [
                      -77.02419,
                      38.90842
                    ]
                  },
                  "properties": {
                    "login": "sunny",
                    "place": "Azi's Cafe",
                    "lon": "-77.02419",
                    "lat": "38.90842"
                  },
                  "type": "Feature"
                },
                {
                  "geometry": {
                    "type": "Point",
                    "coordinates": [
                      -77.02518,
                      38.91931
                    ]
                  },
                  "properties": {
                    "login": "baxtercantsee",
                    "place": "Blind Dog Cafe",
                    "lon": "-77.02518",
                    "lat": "38.91931"
                  },
                  "type": "Feature"
                },
                {
                  "geometry": {
                    "type": "Point",
                    "coordinates": [
                      -77.03304,
                      38.9326
                    ]
                  },
                  "properties": {
                    "login": "baguette",
                    "place": "Le Caprice",
                    "lon": "-77.03304",
                    "lat": "38.93260"
                  },
                  "type": "Feature"
                },
                {
                  "geometry": {
                    "type": "Point",
                    "coordinates": [
                      -77.04509,
                      38.91368
                    ]
                  },
                  "properties": {
                    "login": "",
                    "place": "Filter",
                    "lon": "-77.04509",
                    "lat": "38.91368"
                  },
                  "type": "Feature"
                },
                {
                  "geometry": {
                    "type": "Point",
                    "coordinates": [
                      -76.99656,
                      38.88516
                    ]
                  },
                  "properties": {
                    "login": "espresso",
                    "place": "Peregrine",
                    "lon": "-76.99656",
                    "lat": "38.88516"
                  },
                  "type": "Feature"
                },
                {
                  "geometry": {
                    "type": "Point",
                    "coordinates": [
                      -77.042438,
                      38.921894
                    ]
                  },
                  "properties": {
                    "login": "coupetnt",
                    "place": "Tryst",
                    "lon": "-77.042438",
                    "lat": "38.921894"
                  },
                  "type": "Feature"
                },
                {
                  "geometry": {
                    "type": "Point",
                    "coordinates": [
                      -77.02821,
                      38.93206
                    ]
                  },
                  "properties": {
                    "login": "voteforus",
                    "place": "The Coupe",
                    "lon": "-77.02821",
                    "lat": "38.93206"
                  },
                  "type": "Feature"
                },
                {
                  "geometry": {
                    "type": "Point",
                    "coordinates": [
                      -77.01239,
                      38.91275
                    ]
                  },
                  "properties": {
                    "login": "",
                    "place": "Big Bear Cafe",
                    "lon": "-77.01239",
                    "lat": "38.91275"
                  },
                  "type": "Feature"
                }
              ],
              "type": "FeatureCollection"
            },
            "text/plain": [
              "<IPython.display.GeoJSON object>"
            ]
          },
          "metadata": {
            "application/geo+json": {}
          }
        }
      ],
      "execution_count": 7,
      "metadata": {
        "collapsed": false
      }
    },
    {
      "cell_type": "code",
      "source": [
        "GeoJSON(data={\n",
        "    \"type\": \"Feature\",\n",
        "    \"geometry\": {\n",
        "        \"type\": \"Point\",\n",
        "        \"coordinates\": [11.8, -45.04]\n",
        "    }\n",
        "}, url_template=\"http://s3-eu-west-1.amazonaws.com/whereonmars.cartodb.net/{basemap_id}/{z}/{x}/{y}.png\", \n",
        "layer_options={\n",
        "    \"basemap_id\": \"mola-color\",\n",
        "    \"attribution\" : \"NASA/MOLA\",\n",
        "    \"tms\": True,\n",
        "    \"minZoom\" : 0,\n",
        "    \"maxZoom\" : 6\n",
        "})"
      ],
      "outputs": [
        {
          "output_type": "display_data",
          "data": {
            "application/geo+json": {
              "geometry": {
                "type": "Point",
                "coordinates": [
                  11.8,
                  -45.04
                ]
              },
              "type": "Feature"
            },
            "text/plain": [
              "<IPython.display.GeoJSON object>"
            ]
          },
          "metadata": {
            "application/geo+json": {
              "url_template": "http://s3-eu-west-1.amazonaws.com/whereonmars.cartodb.net/{basemap_id}/{z}/{x}/{y}.png",
              "layer_options": {
                "basemap_id": "mola-color",
                "attribution": "NASA/MOLA",
                "tms": true,
                "maxZoom": 6,
                "minZoom": 0
              }
            }
          }
        }
      ],
      "execution_count": 8,
      "metadata": {}
    },
    {
      "cell_type": "code",
      "source": [],
      "outputs": [],
      "execution_count": null,
      "metadata": {}
    }
  ],
  "metadata": {
    "kernel_info": {
      "name": "python3"
    },
    "kernelspec": {
      "name": "python3",
      "language": "python",
      "display_name": "Python 3"
    },
    "language_info": {
      "mimetype": "text/x-python",
      "pygments_lexer": "ipython3",
      "nbconvert_exporter": "python",
      "codemirror_mode": {
        "version": 3,
        "name": "ipython"
      },
      "version": "3.5.2",
      "name": "python",
      "file_extension": ".py"
    }
  },
  "nbformat": 4,
  "nbformat_minor": 1
}