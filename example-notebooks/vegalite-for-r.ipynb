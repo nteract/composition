{
  "cells": [
    {
      "cell_type": "code",
      "source": [
        "library(IRdisplay)\n",
        "to_irkernel <- function(vl){\n",
        "    publish_mimebundle(list('application/vnd.vegalite.v1+json'=vl$x))\n",
        "}"
      ],
      "outputs": [],
      "execution_count": 34,
      "metadata": {
        "collapsed": false,
        "outputHidden": false,
        "inputHidden": false
      }
    },
    {
      "cell_type": "code",
      "source": [
        "library(vegalite)\n",
        "\n",
        "vegalite() %>% \n",
        "  cell_size(400, 400) %>% \n",
        "  add_data(\"https://vega.github.io/vega-editor/app/data/cars.json\") %>% \n",
        "  encode_x(\"Horsepower\") %>% \n",
        "  encode_y(\"Miles_per_Gallon\") %>% \n",
        "  encode_color(\"Origin\", \"nominal\") %>% \n",
        "  mark_point() %>%\n",
        "  to_irkernel"
      ],
      "outputs": [
        {
          "output_type": "display_data",
          "data": {
            "application/vnd.vegalite.v1+json": {
              "description": "",
              "data": {
                "url": "https://vega.github.io/vega-editor/app/data/cars.json"
              },
              "mark": "point",
              "encoding": {
                "x": {
                  "field": "Horsepower",
                  "type": "quantitative"
                },
                "y": {
                  "field": "Miles_per_Gallon",
                  "type": "quantitative"
                },
                "color": {
                  "field": "Origin",
                  "type": "nominal"
                }
              },
              "config": {
                "cell": {
                  "width": 400,
                  "height": 400,
                  "clip": false
                }
              },
              "embed": {
                "renderer": "svg",
                "actions": {
                  "export": false,
                  "source": false,
                  "editor": false
                }
              }
            }
          },
          "metadata": {}
        }
      ],
      "execution_count": 35,
      "metadata": {
        "collapsed": false,
        "outputHidden": false,
        "inputHidden": false
      }
    },
    {
      "cell_type": "code",
      "source": [],
      "outputs": [],
      "execution_count": null,
      "metadata": {
        "collapsed": false,
        "outputHidden": false,
        "inputHidden": false
      }
    }
  ],
  "metadata": {
    "kernelspec": {
      "name": "ir",
      "language": "R",
      "display_name": "R"
    },
    "kernel_info": {
      "name": "ir"
    },
    "language_info": {
      "name": "R",
      "codemirror_mode": "r",
      "pygments_lexer": "r",
      "mimetype": "text/x-r-source",
      "file_extension": ".r",
      "version": "3.4.1"
    },
    "nteract": {
      "version": "0.2.0"
    }
  },
  "nbformat": 4,
  "nbformat_minor": 4
}