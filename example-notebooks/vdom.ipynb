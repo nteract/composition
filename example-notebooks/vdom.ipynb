{
  "cells": [
    {
      "cell_type": "markdown",
      "source": [
        "# Declarative layouts\n",
        "\n",
        "This notebook demonstrates how to use an _experimental_ display type called `application/vdom.v1+json` or `vdom` for short.\n",
        "\n",
        "Instead of sending HTML, you send a declarative JSON format that lists the nodes for HTML like so:\n",
        "\n",
        "```js\n",
        "{\n",
        "  'type': 'h1',\n",
        "  'props': {\n",
        "    'children': [] // \n",
        "  }\n",
        "}\n",
        "```\n",
        "\n",
        "This is a bit low level, so you'll have to bear with us. The goal for an end user would be to be able to write something like this in Python:\n",
        "\n",
        "```python\n",
        "layout = (\n",
        "    Div(children=[\n",
        "        H1(children='Hello there!'),\n",
        "        P(children='''\n",
        "            Living the dream\n",
        "        '''),\n",
        "    ])\n",
        ")\n",
        "```\n",
        "\n",
        "(which is exactly the API that [dash](https://plot.ly/dash) provides)\n",
        "\n",
        "We'll start out a little raw and show off some of the chief benefits as we go.\n"
      ],
      "metadata": {
        "collapsed": false,
        "outputHidden": false,
        "inputHidden": false
      }
    },
    {
      "cell_type": "code",
      "source": [
        "display(\n",
        "    {\n",
        "        'application/vdom.v1+json': {\n",
        "            'type': 'h1',\n",
        "            'props': {\n",
        "                'children': 'Welcome to VDOM',\n",
        "            }\n",
        "        }\n",
        "    },\n",
        "    raw=True\n",
        ")"
      ],
      "outputs": [
        {
          "output_type": "display_data",
          "data": {
            "application/vdom.v1+json": {
              "type": "h1",
              "props": {
                "children": null
              }
            }
          },
          "metadata": {}
        }
      ],
      "execution_count": 1,
      "metadata": {
        "collapsed": false,
        "outputHidden": false,
        "inputHidden": false
      }
    },
    {
      "cell_type": "markdown",
      "source": [
        "We'll wrap that boilerplate up in a `VDOM` class, similar to the `IPython.display.HTML` class:"
      ],
      "metadata": {}
    },
    {
      "cell_type": "code",
      "source": [
        "class VDOM():\n",
        "    def __init__(self, obj):\n",
        "        self.obj = obj\n",
        "        \n",
        "    def _repr_mimebundle_(self, include, exclude, **kwargs):\n",
        "        return {\n",
        "                'application/vdom.v1+json': self.obj\n",
        "        }\n",
        "\n",
        "VDOM({\n",
        "    'type': 'h1',\n",
        "    'props': {\n",
        "        'children': 'Now you\\'re cooking with VDOM',\n",
        "    }\n",
        "})"
      ],
      "outputs": [
        {
          "output_type": "execute_result",
          "execution_count": 2,
          "data": {
            "application/vdom.v1+json": {
              "type": "h1",
              "props": {
                "children": null
              }
            },
            "text/plain": [
              "<__main__.VDOM at 0x10b89e160>"
            ]
          },
          "metadata": {}
        }
      ],
      "execution_count": 2,
      "metadata": {
        "collapsed": false,
        "outputHidden": false,
        "inputHidden": false
      }
    },
    {
      "cell_type": "markdown",
      "source": [
        "If we really want, we could also create individual HTML element helpers"
      ],
      "metadata": {}
    },
    {
      "cell_type": "code",
      "source": [
        "def h1(children=None, **kwargs):\n",
        "    return {\n",
        "        'type': 'h1',\n",
        "        'props': {\n",
        "            'children': children,\n",
        "            # Fold everything else in as props\n",
        "            # Note that we'd _really_ want to do some validation here\n",
        "            **kwargs\n",
        "        },\n",
        "\n    }"
      ],
      "outputs": [],
      "execution_count": 3,
      "metadata": {
        "collapsed": false,
        "outputHidden": false,
        "inputHidden": false
      }
    },
    {
      "cell_type": "code",
      "source": [
        "h1('hey', style={ 'fontSize': '5em'})"
      ],
      "outputs": [
        {
          "output_type": "execute_result",
          "execution_count": 4,
          "data": {
            "text/plain": [
              "{'props': {'children': 'hey', 'style': {'fontSize': '5em'}}, 'type': 'h1'}"
            ]
          },
          "metadata": {}
        }
      ],
      "execution_count": 4,
      "metadata": {
        "collapsed": false,
        "outputHidden": false,
        "inputHidden": false
      }
    },
    {
      "cell_type": "code",
      "source": [
        "VDOM(h1('This is great', style={ 'fontSize': '5em', 'color': 'DeepPink' }))"
      ],
      "outputs": [
        {
          "output_type": "execute_result",
          "execution_count": 5,
          "data": {
            "application/vdom.v1+json": {
              "type": "h1",
              "props": {
                "children": null,
                "style": {
                  "fontSize": "5em",
                  "color": "DeepPink"
                }
              }
            },
            "text/plain": [
              "<__main__.VDOM at 0x10b89e978>"
            ]
          },
          "metadata": {}
        }
      ],
      "execution_count": 5,
      "metadata": {
        "collapsed": false,
        "outputHidden": false,
        "inputHidden": false
      }
    },
    {
      "cell_type": "markdown",
      "source": [
        "# Why not just use HTML?\n",
        "\nWhen we send updates using `display(obj, display_id='x', update=True)`, the HTML gets wiped out losing any state in the frontend. This especially matters with elements like `<details>`:"
      ],
      "metadata": {}
    },
    {
      "cell_type": "code",
      "source": [
        "%%html\n",
        "<details>\n",
        "    <summary>Click me to expand</summary>\n",
        "    <p>I am some hidden text</p>\n",
        "</details>"
      ],
      "outputs": [
        {
          "output_type": "display_data",
          "data": {
            "text/plain": [
              "<IPython.core.display.HTML object>"
            ],
            "text/html": [
              "<details>\n",
              "    <summary>Click me to expand</summary>\n",
              "    <p>I am some hidden text</p>\n",
              "</details>"
            ]
          },
          "metadata": {}
        }
      ],
      "execution_count": 6,
      "metadata": {
        "collapsed": false,
        "outputHidden": false,
        "inputHidden": false
      }
    },
    {
      "cell_type": "markdown",
      "source": [
        "An easier element to demonstrate in a tutorial notebook is the infamous (and deprecated) `<marquee>` tag. Fun fact: It's GPU accelerated on Chrome."
      ],
      "metadata": {}
    },
    {
      "cell_type": "code",
      "source": [
        "from IPython.display import HTML\n",
        "import time\n",
        "\n",
        "handle = display(HTML(\"\"\"<marquee>Here I am scrolling</marquee>\"\"\"), display_id='html_marquee')\n",
        "time.sleep(2)\n",
        "handle.display(HTML(\"\"\"<marquee>RESET MUAHAHAHAHAHAH</marquee>\"\"\"), update=True)\n",
        "time.sleep(2)\n",
        "handle.display(HTML(\"\"\"<marquee>😔</marquee>\"\"\"), update=True)"
      ],
      "outputs": [
        {
          "output_type": "display_data",
          "data": {
            "text/plain": [
              "<IPython.core.display.HTML object>"
            ],
            "text/html": [
              "<marquee>😔</marquee>"
            ]
          },
          "metadata": {}
        }
      ],
      "execution_count": 7,
      "metadata": {
        "collapsed": false,
        "outputHidden": false,
        "inputHidden": false
      }
    },
    {
      "cell_type": "markdown",
      "source": [
        "Whereas, if you do it with the VDOM, you get nice clean updates that keep state.\n",
        "\n"
      ],
      "metadata": {}
    },
    {
      "cell_type": "code",
      "source": [
        "def marquee(children=None, **kwargs):\n",
        "    return {\n",
        "        'type': 'marquee',\n",
        "        'props': {\n",
        "            'children': children,\n",
        "            # Fold everything else in as props\n",
        "            # Note that we'd _really_ want to do some validation here\n",
        "            **kwargs\n",
        "        },\n",
        "\n",
        "    }\n",
        "\n",
        "h = display(VDOM(marquee('HERE WE GO VDOM')), display_id='vdom_marquee')\n",
        "time.sleep(1.5)\n",
        "\n",
        "for ii in range(16):\n",
        "    h.display(VDOM(marquee('😁')), update=True)\n",
        "    time.sleep(0.5)\n",
        "    h.display(VDOM(marquee('😁✌🏻')), update=True)\n",
        "    time.sleep(0.5)\n",
        "\nh.display(VDOM(h1('❤️ VDOM ❤️')), update=True)"
      ],
      "outputs": [
        {
          "output_type": "display_data",
          "data": {
            "application/vdom.v1+json": {
              "type": "h1",
              "props": {
                "children": null
              }
            },
            "text/plain": [
              "<__main__.VDOM at 0x10b5832e8>"
            ]
          },
          "metadata": {}
        }
      ],
      "execution_count": 8,
      "metadata": {
        "collapsed": false,
        "outputHidden": false,
        "inputHidden": false
      }
    },
    {
      "cell_type": "markdown",
      "source": [
        "# Game time\n",
        "\nWe can use this to make a silly little game where you and your friends pick an emoji and watch as it shuffles through them."
      ],
      "metadata": {}
    },
    {
      "cell_type": "code",
      "source": [
        "import random\n",
        "import time\n",
        "\n",
        "winner = \"\"\n",
        "\n",
        "# Each player should pick an emoji that you put into this array\n",
        "choices = [\"🥑\", \"🐰\", \"🍄\", \"🐱\", \"🚁\", \"☃\", \"🌀\", \"🏇\", \"🐼\", \"🦆\", \"🚀\", \"🎡\"]\n",
        "\n\n",
        "game = display(VDOM(h1('GAMETIME')), display_id=\"game\")\n",
        "\n",
        "for ii in range(91):\n",
        "    winner = random.choice(choices)\n",
        "    game.display(\n",
        "        VDOM(\n",
        "            marquee(winner, style={ \"fontSize\" : '4em' })\n",
        "        ),\n",
        "        update=True\n",
        "    )\n",
        "    time.sleep(0.1)\n",
        "\ngame.display(VDOM(h1('WINNER ' + winner, style={ \"fontSize\" : '4em' })), update=True)"
      ],
      "outputs": [
        {
          "output_type": "display_data",
          "data": {
            "application/vdom.v1+json": {
              "type": "h1",
              "props": {
                "children": null,
                "style": {
                  "fontSize": "4em"
                }
              }
            },
            "text/plain": [
              "<__main__.VDOM at 0x10b8b3588>"
            ]
          },
          "metadata": {}
        }
      ],
      "execution_count": 9,
      "metadata": {
        "collapsed": false,
        "outputExpanded": false
      }
    },
    {
      "cell_type": "markdown",
      "source": [
        "# Collapsible job progress views\n",
        "\nThat was good and fun, let's try something that would be useful for spark and other background jobs. We've also been making a lot of boilerplate to declare `marquee` and `h1`. Let's create a little wrapper to make new elements simply."
      ],
      "metadata": {}
    },
    {
      "cell_type": "code",
      "source": [
        "def element(elementType):\n",
        "    def elemental(children=None, **kwargs):\n",
        "        return {\n",
        "            'type': elementType,\n",
        "            'props': {\n",
        "                'children': children,\n",
        "                # Fold everything else in as props\n",
        "                # Note that we'd _really_ want to do some validation here\n",
        "                # Likely using http://bit.ly/domprops\n",
        "                **kwargs\n",
        "            },\n",
        "\n",
        "        }\n",
        "    return elemental"
      ],
      "outputs": [],
      "execution_count": 10,
      "metadata": {
        "collapsed": false,
        "outputHidden": false,
        "inputHidden": false
      }
    },
    {
      "cell_type": "code",
      "source": [
        "bold = element('b')\n",
        "div = element('div')\n",
        "p = element('p')\n",
        "img = element('img')\n",
        "\n\n",
        "VDOM(\n",
        "    div([\n",
        "        h1('Now Incredibly Declarative'),\n",
        "        p(['Can you believe we wrote ', bold('all this from scratch'), '?']),\n",
        "        img(src=\"https://media.giphy.com/media/xUPGcguWZHRC2HyBRS/giphy.gif\"),\n",
        "        p('SO COOL!'),\n",
        "    ])\n",
        ")"
      ],
      "outputs": [
        {
          "output_type": "execute_result",
          "execution_count": 11,
          "data": {
            "application/vdom.v1+json": {
              "type": "div",
              "props": {
                "children": null
              }
            },
            "text/plain": [
              "<__main__.VDOM at 0x10b8be8d0>"
            ]
          },
          "metadata": {}
        }
      ],
      "execution_count": 11,
      "metadata": {
        "collapsed": false,
        "outputHidden": false,
        "inputHidden": false
      }
    },
    {
      "cell_type": "code",
      "source": [
        "details = element('details')\n",
        "summary = element('summary')\n",
        "progress = element('progress')"
      ],
      "outputs": [],
      "execution_count": 12,
      "metadata": {
        "collapsed": false,
        "outputHidden": false,
        "inputHidden": false
      }
    },
    {
      "cell_type": "code",
      "source": [
        "progress_style= dict(width=\"100%\", appearance=\"none\")\n",
        "\n",
        "job_progress = display(\n",
        "    VDOM(\n",
        "        details([\n",
        "            summary(\"Job Progress\"),\n",
        "            progress(value=0, max=100, style=progress_style)\n",
        "        ], open=True)\n",
        "    ),\n",
        "    display_id=\"job_progression\"\n",
        ")\n",
        "\n",
        "for value in range(10, 105, 5):\n",
        "    time.sleep(0.2)\n",
        "\n",
        "    job_progress.display(VDOM(\n",
        "            details([\n",
        "                summary(\"Job Progress - toggle me\"),\n",
        "                progress(value=value, max=100, style=progress_style)\n",
        "            ], open=True)\n",
        "        ),\n",
        "        update=True)"
      ],
      "outputs": [
        {
          "output_type": "display_data",
          "data": {
            "application/vdom.v1+json": {
              "type": "details",
              "props": {
                "children": null,
                "open": true
              }
            },
            "text/plain": [
              "<__main__.VDOM at 0x10b98eb70>"
            ]
          },
          "metadata": {}
        }
      ],
      "execution_count": 24,
      "metadata": {
        "collapsed": false,
        "outputHidden": false,
        "inputHidden": false
      }
    },
    {
      "cell_type": "markdown",
      "source": [
        "You can continue to refine these basic building blocks, building even richer UIs, all in declarative Python structures.\n",
        "\n",
        "The beauty of all this is that you can update these displays without forcing weird scrolling behavior on the users or changing the state of interactive controls on them.\n",
        "\n🎉 Here's to building cool things! 🎉"
      ],
      "metadata": {}
    },
    {
      "cell_type": "markdown",
      "source": [],
      "metadata": {}
    }
  ],
  "metadata": {
    "kernelspec": {
      "name": "python3",
      "language": "python",
      "display_name": "Python 3"
    },
    "kernel_info": {
      "name": "python3"
    },
    "language_info": {
      "name": "python",
      "version": "3.6.2",
      "mimetype": "text/x-python",
      "codemirror_mode": {
        "name": "ipython",
        "version": 3
      },
      "pygments_lexer": "ipython3",
      "nbconvert_exporter": "python",
      "file_extension": ".py"
    },
    "nteract": {
      "version": "0.2.0"
    }
  },
  "nbformat": 4,
  "nbformat_minor": 0
}