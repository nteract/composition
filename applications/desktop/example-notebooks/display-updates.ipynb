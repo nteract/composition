{
  "cells": [
    {
      "cell_type": "markdown",
      "source": [
        "# Outputs you can update by name\n",
        "\n",
        "This notebook demonstrates the new name-based display functionality in the notebook. Previously, notebooks could only attach output to the cell that was currently being executed:\n",
        "\n"
      ],
      "metadata": {
        "collapsed": false
      }
    },
    {
      "cell_type": "code",
      "source": [
        "print(\"typical output\")"
      ],
      "outputs": [],
      "execution_count": 1,
      "metadata": {
        "collapsed": false
      }
    },
    {
      "cell_type": "markdown",
      "source": [
        "There was no simple way to make code in one cell to write output to another cell. Now there is!\n",
        "\n",
        "This feature will only work on IPython `>= 5.4`, so upgrade if you need to with `pip install --upgrade ipython`. Feel free to update with\n",
        "\n",
        "```\n",
        "pip install --upgrade ipython\n",
        "```\n",
        "\nthen restart the kernel with `Language -> Restart Running Kernel`. We'll wait here..."
      ],
      "metadata": {
        "collapsed": false
      }
    },
    {
      "cell_type": "markdown",
      "source": [
        "## The fun stuff\n",
        "\nYou made it _to the future_! Pat yourself on the back and take a deep breath, the scariest part is over. The `display` function now has an optional `display_id` parameter. Let's give our next display the boring name and call it *some_destination*."
      ],
      "metadata": {}
    },
    {
      "cell_type": "code",
      "source": [
        "h1 = display('initial display', display_id='some_destination')"
      ],
      "outputs": [],
      "execution_count": 2,
      "metadata": {
        "collapsed": false
      }
    },
    {
      "cell_type": "markdown",
      "source": [
        "Ok, so far, nothing earth shattering. But what happens if you call display with the same `display_id` again?\n",
        "\n\n\n"
      ],
      "metadata": {}
    },
    {
      "cell_type": "code",
      "source": [
        "h2 = display('spoiler alert: output updated in both', display_id='some_destination')\t\t\t"
      ],
      "outputs": [],
      "execution_count": 3,
      "metadata": {
        "collapsed": false
      }
    },
    {
      "cell_type": "markdown",
      "source": [
        "Fantastic! We have a way of mirroring output in multiple places. But what if you only want update the previously named displays, without creating a new one? Just call `display` with `update=True`, like this:"
      ],
      "metadata": {}
    },
    {
      "cell_type": "code",
      "source": [
        "h3 = display('no output here, update above', display_id='some_destination', update=True)\t\t\t"
      ],
      "outputs": [],
      "execution_count": 4,
      "metadata": {
        "collapsed": false
      }
    },
    {
      "cell_type": "markdown",
      "source": [
        "Though we have been working with text so far, this also works for the all other output types. Let's make an HTML-based progress bar!"
      ],
      "metadata": {}
    },
    {
      "cell_type": "code",
      "source": [
        "import os\n",
        "from binascii import hexlify\n",
        "\n",
        "class ProgressBar(object):\n",
        "    def __init__(self, capacity):\n",
        "        self._display_id = hexlify(os.urandom(8)).decode('ascii')\n",
        "        self.capacity = capacity\n",
        "        self.progress = 0\n",
        "        \n",
        "        \n",
        "    def _repr_html_(self):\n",
        "        return \"<progress style='width:100%' max='{}' value='{}'></progress>\".format(self.capacity, self.progress)\n",
        "    \n",
        "    def display(self):\n",
        "        display(self, display_id=self._display_id)\n",
        "    \n",
        "    def update(self):\n",
        "        display(self, display_id=self._display_id, update=True)\n",
        "\n",
        "bar = ProgressBar(100)\n",
        "bar.display()"
      ],
      "outputs": [],
      "execution_count": 5,
      "metadata": {
        "collapsed": false,
        "outputHidden": false,
        "inputHidden": false
      }
    },
    {
      "cell_type": "markdown",
      "source": [
        "The progress bar is drawn and it starts off at `0`. Fill it up half way and call its `update` method to get a redraw. "
      ],
      "metadata": {}
    },
    {
      "cell_type": "code",
      "source": [
        "bar.progress = 50\n",
        "bar.update()"
      ],
      "outputs": [],
      "execution_count": 6,
      "metadata": {
        "collapsed": false
      }
    },
    {
      "cell_type": "markdown",
      "source": [
        "Now go half-way again"
      ],
      "metadata": {}
    },
    {
      "cell_type": "code",
      "source": [
        "bar.progress = 75\n",
        "bar.update()"
      ],
      "outputs": [],
      "execution_count": 7,
      "metadata": {
        "collapsed": false
      }
    },
    {
      "cell_type": "markdown",
      "source": [
        "Our original bar is kind of far away now, let's get another view of it below."
      ],
      "metadata": {}
    },
    {
      "cell_type": "code",
      "source": [
        "bar.display()"
      ],
      "outputs": [],
      "execution_count": 8,
      "metadata": {
        "collapsed": false
      }
    },
    {
      "cell_type": "markdown",
      "source": [
        "This is good, but it would be awesome to have a progress bar that would automatically update whenever its progress was modified - that would be truly *progress*ive. We subclass `ProgressBar` and now we make `progress` into a [Python property](https://docs.python.org/3/library/functions.html#property), which will allow us to set it and get it like an attribute, but do that using methods. In particular, whenever we assign a new value to `progress`, we also call `update`."
      ],
      "metadata": {}
    },
    {
      "cell_type": "code",
      "source": [
        "class AutoupdatingProgressBar(ProgressBar):\n",
        "    @property\n",
        "    def progress(self):\n",
        "        return self._progress\n",
        "    \n",
        "    @progress.setter\n",
        "    def progress(self, value):\n",
        "        self._progress = value\n",
        "        self.update()"
      ],
      "outputs": [],
      "execution_count": 9,
      "metadata": {
        "collapsed": false
      }
    },
    {
      "cell_type": "code",
      "source": [
        "better_bar = AutoupdatingProgressBar(100)\n",
        "better_bar.display()"
      ],
      "outputs": [],
      "execution_count": 10,
      "metadata": {
        "collapsed": false
      }
    },
    {
      "cell_type": "code",
      "source": [
        "better_bar.progress = 40"
      ],
      "outputs": [],
      "execution_count": 11,
      "metadata": {
        "collapsed": false
      }
    },
    {
      "cell_type": "markdown",
      "source": [
        "Much better. No more pesky `update` calls. Let's make a little animation that [Zeno](https://en.wikipedia.org/wiki/Zeno%27s_paradoxes#Dichotomy_paradox) would be proud of:"
      ],
      "metadata": {}
    },
    {
      "cell_type": "code",
      "source": [
        "import time\n",
        "better_bar.progress = 0\n",
        "for _ in range(10):\n",
        "    time.sleep(.5)\n",
        "    better_bar.progress += (better_bar.capacity - better_bar.progress) / 2"
      ],
      "outputs": [],
      "execution_count": 12,
      "metadata": {
        "collapsed": false
      }
    },
    {
      "cell_type": "markdown",
      "source": [
        "You might have noticed that each `ProgressBar` autogenerates a random `display_id` which is handy if you want to have several of them.\n",
        "\n"
      ],
      "metadata": {}
    },
    {
      "cell_type": "code",
      "source": [
        "num_bars = 5\n",
        "bars = [AutoupdatingProgressBar(100) for _ in range(num_bars)]\n",
        "for b in bars:\n",
        "    b.display()"
      ],
      "outputs": [],
      "execution_count": 13,
      "metadata": {
        "collapsed": false
      }
    },
    {
      "cell_type": "code",
      "source": [
        "import random \n",
        "for x in range(40):\n",
        "    time.sleep(.1)\n",
        "    idx = random.randrange(num_bars)\n",
        "    bars[idx].progress +=  random.randint(-2, 10)"
      ],
      "outputs": [],
      "execution_count": 14,
      "metadata": {
        "collapsed": false
      }
    },
    {
      "cell_type": "code",
      "source": [
        "for b in bars:\n",
        "    b.display()"
      ],
      "outputs": [],
      "execution_count": 15,
      "metadata": {
        "collapsed": false
      }
    },
    {
      "cell_type": "code",
      "source": [],
      "outputs": [],
      "execution_count": 16,
      "metadata": {
        "collapsed": false,
        "outputHidden": false,
        "inputHidden": false
      }
    }
  ],
  "metadata": {
    "kernelspec": {
      "name": "python2",
      "language": "python",
      "display_name": "Python 2"
    },
    "kernel_info": {
      "name": "python2"
    },
    "language_info": {
      "mimetype": "text/x-python",
      "nbconvert_exporter": "python",
      "name": "python",
      "pygments_lexer": "ipython2",
      "version": "2.7.13",
      "file_extension": ".py",
      "codemirror_mode": {
        "version": 2,
        "name": "ipython"
      }
    },
    "nteract": {
      "version": "0.1.0"
    }
  },
  "nbformat": 4,
  "nbformat_minor": 0
}