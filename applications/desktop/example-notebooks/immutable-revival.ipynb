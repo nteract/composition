{
  "cells": [
    {
      "cell_type": "markdown",
      "source": [
        "# Exploring Custom Revival with JSON.parse\n",
        "\n",
        "<svg xmlns=\"http://www.w3.org/2000/svg\" version=\"1.1\" viewBox=\"0 0 630 630\" height=\"90\">\n",
        "<g id=\"logo\">\n",
        "  <rect id=\"background\" x=\"0\" y=\"0\" width=\"630\" height=\"630\" fill=\"#f7df1e\" />\n",
        "  <path id=\"j\" d=\"m 165.65,526.47375 48.2125,-29.1775 C 223.16375,513.7875 231.625,527.74 251.92,527.74 c 19.45375,0 31.71875,-7.60975 31.71875,-37.21 l 0,-201.3 59.20375,0 0,202.1375 c 0,61.32 -35.94375,89.23125 -88.385,89.23125 -47.36125,0 -74.8525,-24.52875 -88.8075,-54.13\" />\n",
        "  <path id=\"s\" d=\"m 375,520.13 48.20625,-27.91125 c 12.69,20.72375 29.1825,35.9475 58.36125,35.9475 24.53125,0 40.17375,-12.26475 40.17375,-29.18125 0,-20.29875 -16.06875,-27.48875 -43.135,-39.32625 l -14.7975,-6.3475 c -42.715,-18.18125 -71.05,-41.0175 -71.05,-89.2275 0,-44.40375 33.83125,-78.2375 86.695,-78.2375 37.6375,0 64.7025,13.11125 84.15375,47.36625 l -46.09625,29.60125 c -10.15,-18.1825 -21.1425,-25.37125 -38.0575,-25.37125 -17.33875,0 -28.335,10.995 -28.335,25.37125 0,17.7625 10.99625,24.9525 36.3675,35.94875 l 14.8,6.3425 c 50.325,21.56875 78.66,43.5575 78.66,93.03375 0,53.2875 -41.86625,82.465 -98.11,82.465 -54.97625,0 -90.5,-26.2175 -107.83625,-60.47375\" />\n",
        "</g>\n",
        "</svg>"
      ],
      "metadata": {}
    },
    {
      "cell_type": "code",
      "source": [
        "var Immutable = require('immutable')\n",
        "var _ = require('lodash')"
      ],
      "outputs": [],
      "execution_count": 2,
      "metadata": {
        "collapsed": false,
        "outputExpanded": false
      }
    },
    {
      "cell_type": "markdown",
      "source": [
        "# Revival on Parse\n",
        "\n",
        "JSON.parse takes an extra argument called a reviver:\n",
        "\n",
        "```\n",
        "JSON.parse(text[, reviver])\n",
        "```\n",
        "\n",
        "The reviver accepts two parameters, `key` and `value` and returns the intended `value`. The key will either be a text key on Objects or numbers for when the value is in an Array.\n",
        "\nLet's walk through some sample code to check this out."
      ],
      "metadata": {
        "collapsed": false,
        "outputExpanded": false
      }
    },
    {
      "cell_type": "code",
      "source": [
        "// Classic JSON.parse\n",
        "JSON.parse('{\"a\": 2, \"b\": { \"name\": \"dave\" }}')"
      ],
      "outputs": [
        {
          "output_type": "execute_result",
          "execution_count": 3,
          "data": {
            "text/plain": [
              "{ a: 2, b: { name: 'dave' } }"
            ]
          },
          "metadata": {}
        }
      ],
      "execution_count": 3,
      "metadata": {
        "collapsed": false,
        "outputExpanded": false
      }
    },
    {
      "cell_type": "code",
      "source": [
        "function reviver(key, value) {\n",
        "    if(key === 'name') {\n",
        "        return value + \" senior\";\n",
        "    }\n",
        "    return value\n",
        "}\n",
        "\nJSON.parse('{\"a\": 2, \"b\": { \"name\": \"dave\" }}', reviver)"
      ],
      "outputs": [
        {
          "output_type": "execute_result",
          "execution_count": 4,
          "data": {
            "text/plain": [
              "{ a: 2, b: { name: 'dave senior' } }"
            ]
          },
          "metadata": {}
        }
      ],
      "execution_count": 4,
      "metadata": {
        "collapsed": false,
        "outputExpanded": false
      }
    },
    {
      "cell_type": "markdown",
      "source": [
        "This means you can use this to change values based on a key, though you won't know the nested path of the overall JSON object. \n",
        "\nSince the string is (expected to be) JSON, there are only two types which are not immutable: `Array` and `Object`. You can use this to your advantage to create frozen or Immutable.js objects while parsing."
      ],
      "metadata": {
        "outputExpanded": false
      }
    },
    {
      "cell_type": "code",
      "source": [
        "JSON.parse('{\"a\": 2, \"b\": { \"name\": \"dave\" }}', (k, v) => Object.freeze(v))"
      ],
      "outputs": [
        {
          "output_type": "execute_result",
          "execution_count": 5,
          "data": {
            "text/plain": [
              "{ a: 2, b: { name: 'dave' } }"
            ]
          },
          "metadata": {}
        }
      ],
      "execution_count": 5,
      "metadata": {
        "collapsed": false,
        "outputExpanded": false
      }
    },
    {
      "cell_type": "code",
      "source": [
        "function immutableReviver(key, value) {\n",
        "    if (Array.isArray(value)) {\n",
        "        return Immutable.List(value);\n",
        "    }\n",
        "\n",
        "    if (typeof value === 'object') {\n",
        "        return Immutable.Map(value)\n",
        "    }\n",
        "    return value;\n",
        "}"
      ],
      "outputs": [],
      "execution_count": 6,
      "metadata": {
        "collapsed": false,
        "outputExpanded": false
      }
    },
    {
      "cell_type": "markdown",
      "source": [
        "Since it seemed handy enough, I put [`immutable-reviver`](https://github.com/rgbkrk/immutable-reviver) on npm. We'll just use the version written here for now though."
      ],
      "metadata": {
        "collapsed": false,
        "outputExpanded": false
      }
    },
    {
      "cell_type": "code",
      "source": [
        "revived = JSON.parse('{\"a\": 2, \"b\": { \"name\": \"dave\" }}', immutableReviver)"
      ],
      "outputs": [
        {
          "output_type": "execute_result",
          "execution_count": 7,
          "data": {
            "text/plain": [
              "Map { \"a\": 2, \"b\": Map { \"name\": \"dave\" } }"
            ]
          },
          "metadata": {}
        }
      ],
      "execution_count": 7,
      "metadata": {
        "collapsed": false,
        "outputExpanded": false
      }
    },
    {
      "cell_type": "code",
      "source": [
        "revived.getIn(['b', 'name'])"
      ],
      "outputs": [
        {
          "output_type": "execute_result",
          "execution_count": 8,
          "data": {
            "text/plain": [
              "'dave'"
            ]
          },
          "metadata": {}
        }
      ],
      "execution_count": 8,
      "metadata": {
        "collapsed": false,
        "outputExpanded": false
      }
    },
    {
      "cell_type": "markdown",
      "source": [
        "The reason I started looking into this was because I was trying to see if I could optimize loading of notebooks in nteract. We currently rely on a strategy that goes like:\n",
        "\n",
        "```\n",
        "notebook = JSON.parse(rawNotebook)\n",
        "immutableNotebook = Immutable.fromJS(notebook)\n",
        "\n",
        "ourNotebook = immutableNotebook.map(...).map(...)... // A series of transformations to create our in-memory representation\n",
        "```\n",
        "\n",
        "These transformations are mostly to turn notebook cells from this:\n",
        "\n\n",
        "```\n",
        "{\n",
        "  \"metadata\": {\n",
        "    \"collapsed\": false,\n",
        "    \"outputExpanded\": false\n",
        "  },\n",
        "  \"cell_type\": \"markdown\",\n",
        "  \"source\": [\n",
        "    \"# Outputs you can update by name\\n\",\n",
        "    \"\\n\",\n",
        "    \"This notebook demonstrates the new name-based display functionality in the notebook. Previously, notebooks could only attach output to the cell that was currently being executed:\\n\",\n",
        "    \"\\n\"\n",
        "  ]\n",
        "}\n",
        "```\n",
        "\n",
        "into:\n",
        "\n",
        "```\n",
        "{\n",
        "  \"metadata\": {\n",
        "    \"collapsed\": false,\n",
        "    \"outputExpanded\": false\n",
        "  },\n",
        "  \"cell_type\": \"markdown\",\n",
        "  \"source\": \"# Outputs you can update by name\\n\\nThis notebook demonstrates the new name-based display functionality in the notebook. Previously, notebooks could only attach output to the cell that was currently being executed:\\n\\n\"\n",
        "}\n",
        "```\n",
        "\nThis multi-line string format, introduced by Jupyter, is to accomodate diffing of notebooks in tools like git and GitHub. It's applied to source on cells as well as some output types."
      ],
      "metadata": {
        "outputExpanded": false
      }
    },
    {
      "cell_type": "markdown",
      "source": [
        "We can set up a reviver that handles all the keys that are most likely to have [multi-line strings](https://github.com/jupyter/nbformat/blob/62d6eb8803616d198eaa2024604d1fe923f2a7b3/nbformat/v4/nbformat.v4.schema.json#L386). We'll start with those that are media types that we know end up being encoded as an array of strings."
      ],
      "metadata": {
        "collapsed": false,
        "outputExpanded": false
      }
    },
    {
      "cell_type": "code",
      "source": [
        "var multilineStringMimetypes = new Set([\n",
        "    'application/javascript',\n",
        "    'text/html',\n",
        "    'text/markdown',\n",
        "    'text/latex',\n",
        "    'image/svg+xml',\n",
        "    'image/gif',\n",
        "    'image/png',\n",
        "    'image/jpeg',\n",
        "    'application/pdf',\n",
        "    'text/plain',\n",
        "]);\n",
        "\n",
        "function immutableNBReviver(key, value) {\n",
        "    if (Array.isArray(value)) {\n",
        "        if(multilineStringMimetypes.has(key)) {\n",
        "            return value.join('')\n",
        "        }\n",
        "        return Immutable.List(value);\n",
        "    }\n",
        "\n",
        "    if (typeof value === 'object') {\n",
        "        return Immutable.Map(value)\n",
        "    }\n",
        "    return value;\n",
        "}"
      ],
      "outputs": [],
      "execution_count": 9,
      "metadata": {
        "collapsed": false,
        "outputExpanded": false
      }
    },
    {
      "cell_type": "markdown",
      "source": [
        "We can also set up a \"greedy\" reviver that will also convert `source` and `text` fields. The primary problem with this though, because of how JSON.parse works is that we have no idea if it's a key in a cell where we expect, part of someone else's JSON payload, or in metadata."
      ],
      "metadata": {
        "collapsed": false,
        "outputExpanded": false
      }
    },
    {
      "cell_type": "code",
      "source": [
        "var specialKeys = new Set([\n",
        "    'application/javascript',\n",
        "    'text/html',\n",
        "    'text/markdown',\n",
        "    'text/latex',\n",
        "    'image/svg+xml',\n",
        "    'image/gif',\n",
        "    'image/png',\n",
        "    'image/jpeg',\n",
        "    'application/pdf',\n",
        "    'text/plain',\n",
        "    'source',\n",
        "    'text',\n",
        "]);\n",
        "\n",
        "function immutableGreedyReviver(key, value) {\n",
        "    if (Array.isArray(value)) {\n",
        "        if(specialKeys.has(key)) {\n",
        "            return value.join('')\n",
        "        }\n",
        "        return Immutable.List(value);\n",
        "    }\n",
        "\n",
        "    if (typeof value === 'object') {\n",
        "        return Immutable.Map(value)\n",
        "    }\n",
        "    return value;\n",
        "}"
      ],
      "outputs": [],
      "execution_count": 10,
      "metadata": {
        "collapsed": false,
        "outputExpanded": false
      }
    },
    {
      "cell_type": "markdown",
      "source": [
        "# Our runtime harnesses\n",
        "\nTo evaluate the speed at which we can revive our objects, we'll set up a little testing harness."
      ],
      "metadata": {
        "collapsed": false,
        "outputExpanded": false
      }
    },
    {
      "cell_type": "code",
      "source": [
        "// Some logger that uses process.hrtime that I ripped off Stack Overflow, since we want to use timing in a way that we can't with console.time\n",
        "\n",
        "[ a, o, ms, s, log ] = ( function * () {\n",
        "    yield * [\n",
        "        ( process.hrtime )(),\n",
        "        process.hrtime,\n",
        "        ms => ( ( ms[ 0 ] * 1e9 + ms[ 1 ] ) / 1000000 ),\n",
        "        s  => s / 1000,\n",
        "        () => {\n",
        "            const f = o( a ), msf = ms( f ), sf = s( msf );\n",
        "            return { a, o: f, ms: msf, s: sf };\n",
        "        }\n",
        "    ];\n",
        "} )();"
      ],
      "outputs": [
        {
          "output_type": "execute_result",
          "execution_count": 11,
          "data": {
            "text/plain": [
              "{}"
            ]
          },
          "metadata": {}
        }
      ],
      "execution_count": 11,
      "metadata": {
        "collapsed": false,
        "outputExpanded": false
      }
    },
    {
      "cell_type": "code",
      "source": [
        "// Calculate the milliseconds it takes to run f\n",
        "function measure(f) {\n",
        "  start = log()\n",
        "  f()\n",
        "  end = log()\n",
        "  return end.ms - start.ms  \n",
        "}\n",
        "\n",
        "// measure the function run n times, return the mean\n",
        "function runTrials(f, n=1000) {\n",
        "    values = []\n",
        "    for(var ii=0; ii < n; ii++) {\n",
        "        values.push(measure(f))\n",
        "    }\n",
        "    return values.reduce((a, b) => a + b, 0)/n\n",
        "}"
      ],
      "outputs": [],
      "execution_count": 12,
      "metadata": {
        "collapsed": false,
        "outputExpanded": false
      }
    },
    {
      "cell_type": "markdown",
      "source": [
        "With our harness all set up, we can run through all the notebooks we have locally to see how they perform with different revivers."
      ],
      "metadata": {
        "outputExpanded": false
      }
    },
    {
      "cell_type": "code",
      "source": [
        "notebooks = require('glob').sync('./*.ipynb')"
      ],
      "outputs": [
        {
          "output_type": "execute_result",
          "execution_count": 13,
          "data": {
            "text/plain": [
              "[ './altair.ipynb',\n",
              "  './display-updates.ipynb',\n",
              "  './download-stats.ipynb',\n",
              "  './geojson.ipynb',\n",
              "  './immutable-revival.ipynb',\n",
              "  './intro.ipynb',\n",
              "  './model-debug.ipynb',\n",
              "  './pandas-to-geojson.ipynb',\n",
              "  './plotly.ipynb',\n",
              "  './plotlyr.ipynb',\n",
              "  './table-with-schema.ipynb' ]"
            ]
          },
          "metadata": {}
        }
      ],
      "execution_count": 13,
      "metadata": {
        "collapsed": false
      }
    },
    {
      "cell_type": "code",
      "source": [
        "for(var notebookPath of notebooks) {\n",
        "    console.log(\"\\n ----- \", path.basename(notebookPath))\n",
        "    raw = fs.readFileSync(notebookPath)\n",
        "    \n",
        "    var tests = [\n",
        "        { name: 'straight JSON.parse', f: () => { JSON.parse(raw) } },\n",
        "        { name: 'Object.freeze', f: () => { JSON.parse(raw, (k, v) => Object.freeze(v)) } },\n",
        "        { name: 'basic Immutable', f: () => { JSON.parse(raw, immutableReviver) } },\n",
        "        { name: 'immutable notebook', f: () => { JSON.parse(raw, immutableNBReviver) } },\n",
        "        { name: 'immutable greedy nb', f: () => { JSON.parse(raw, immutableGreedyReviver) } },\n",
        "        // { name: 'fromJS', f: () => { JSON.parse(raw, (k, v) => Immutable.fromJS(v)) } },\n",
        "        // { name: 'current commutable way', f: () => { commutable.fromJS(JSON.parse(raw)) } },\n",
        "    ]\n",
        "    \n",
        "    for(var test of tests) {\n",
        "        mean = runTrials(test.f, 100)\n",
        "        console.log(_.padEnd(test.name, 30), mean)\n",
        "    }\n",
        "    \n",
        "\n",
        "}\n",
        "\n"
      ],
      "outputs": [
        {
          "output_type": "stream",
          "name": "stdout",
          "text": [
            "\n",
            " -----  altair.ipynb\n",
            "straight JSON.parse            0.9920628000000307\n",
            "Object.freeze                  2.2261327600000187\n",
            "basic Immutable                6.339475390000043\n",
            "immutable notebook             5.987929800000066\n",
            "immutable greedy nb            6.041059049999958\n",
            "\n",
            " -----  display-updates.ipynb\n",
            "straight JSON.parse            0.055342559999971855\n",
            "Object.freeze                  0.1522439999999642\n",
            "basic Immutable                0.32696781000005104\n",
            "immutable notebook             0.2565404299999773\n",
            "immutable greedy nb            0.21772927000005438\n",
            "\n",
            " -----  download-stats.ipynb\n",
            "straight JSON.parse            0.03000843000002533\n",
            "Object.freeze                  0.0882049800000368\n",
            "basic Immutable                0.12239362000002074\n",
            "immutable notebook             0.120487959999964\n",
            "immutable greedy nb            0.12786773999993784\n",
            "\n",
            " -----  geojson.ipynb\n",
            "straight JSON.parse            0.06639499000002616\n",
            "Object.freeze                  0.17166477999984636\n",
            "basic Immutable                0.21922646999997597\n",
            "immutable notebook             0.24737535999996907\n",
            "immutable greedy nb            0.24788046999994548\n",
            "\n",
            " -----  immutable-revival.ipynb\n",
            "straight JSON.parse            0.11106276999998954\n",
            "Object.freeze                  0.35120148000010887\n",
            "basic Immutable                0.4511028199999055\n",
            "immutable notebook             0.4249068999998963\n",
            "immutable greedy nb            0.43641603000007306\n",
            "\n",
            " -----  intro.ipynb\n",
            "straight JSON.parse            0.04580465999993976\n",
            "Object.freeze                  0.0828917600000932\n",
            "basic Immutable                0.11927991999998994\n",
            "immutable notebook             0.11377050000004602\n",
            "immutable greedy nb            0.14635414000011224\n",
            "\n",
            " -----  model-debug.ipynb\n",
            "straight JSON.parse            0.015867650000109278\n",
            "Object.freeze                  0.04522049000008337\n",
            "basic Immutable                0.07146109000008437\n",
            "immutable notebook             0.07224731999998767\n",
            "immutable greedy nb            0.06531165999993391\n",
            "\n",
            " -----  pandas-to-geojson.ipynb\n",
            "straight JSON.parse            0.0914843699999983\n",
            "Object.freeze                  0.21983236000010947\n",
            "basic Immutable                0.3106511400001364\n",
            "immutable notebook             0.30525319999995193\n",
            "immutable greedy nb            0.30837015999995854\n",
            "\n",
            " -----  plotly.ipynb\n",
            "straight JSON.parse            0.8451852499999404\n",
            "Object.freeze                  1.9863980899999842\n",
            "basic Immutable                2.762597209999967\n",
            "immutable notebook             2.3932162999998763\n",
            "immutable greedy nb            2.5105548600000476\n",
            "\n",
            " -----  plotlyr.ipynb\n",
            "straight JSON.parse            0.010073599999996076\n",
            "Object.freeze                  0.034625850000065836\n",
            "basic Immutable                0.039010990000060704\n",
            "immutable notebook             0.039971539999951344\n",
            "immutable greedy nb            0.11599857000006523\n",
            "\n",
            " -----  table-with-schema.ipynb\n",
            "straight JSON.parse            0.4168697699999211\n",
            "Object.freeze                  0.8328423399998428\n",
            "basic Immutable                1.1854772000000593\n",
            "immutable notebook             1.141829869999965\n",
            "immutable greedy nb            1.2159551399999327\n"
          ]
        }
      ],
      "execution_count": 14,
      "metadata": {
        "collapsed": false,
        "outputExpanded": false
      }
    },
    {
      "cell_type": "markdown",
      "source": [
        "# Evaluating revivers for notebook loading.\n",
        "\nWithin nteract we are inevitably going to end up creating an immutable structure. These measurements only make sense in the context of running both the initial `JSON.parse` followed by the transformations. To give it a rough guess, I'll only compare a few I can evaluate."
      ],
      "metadata": {
        "collapsed": false,
        "outputExpanded": false
      }
    },
    {
      "cell_type": "code",
      "source": [
        "for(var notebookPath of notebooks) {\n",
        "    console.log(\"\\n ----- \", path.basename(notebookPath))\n",
        "    raw = fs.readFileSync(notebookPath)\n",
        "    \n",
        "    var tests = [\n",
        "        { name: 'straight JSON.parse baseline', f: () => { JSON.parse(raw) } },\n",
        "        { name: 'Object.freeze baseline', f: () => { JSON.parse(raw, (k,v) => Object.freeze(v)) } },\n",
        "        { name: 'immutable greedy nb', f: () => { JSON.parse(raw, immutableGreedyReviver) } },\n",
        "    ]\n",
        "    \n",
        "    for(var test of tests) {\n",
        "        mean = runTrials(test.f, 100)\n",
        "        console.log(_.padEnd(test.name, 50), mean.toString().slice(0,10), 'ms')\n",
        "    }\n",
        "}"
      ],
      "outputs": [
        {
          "output_type": "stream",
          "name": "stdout",
          "text": [
            "\n",
            " -----  altair.ipynb\n",
            "straight JSON.parse baseline                       0.88235720 ms\n",
            "Object.freeze baseline                             2.25522840 ms\n",
            "immutable greedy nb                                5.73692367 ms\n",
            "\n",
            " -----  display-updates.ipynb\n",
            "straight JSON.parse baseline                       0.05300443 ms\n",
            "Object.freeze baseline                             0.14575380 ms\n",
            "immutable greedy nb                                0.34971011 ms\n",
            "\n",
            " -----  download-stats.ipynb\n",
            "straight JSON.parse baseline                       0.02906631 ms\n",
            "Object.freeze baseline                             0.08603889 ms\n",
            "immutable greedy nb                                0.10953930 ms\n",
            "\n",
            " -----  geojson.ipynb\n",
            "straight JSON.parse baseline                       0.09626379 ms\n",
            "Object.freeze baseline                             0.15678716 ms\n",
            "immutable greedy nb                                0.22850692 ms\n",
            "\n",
            " -----  immutable-revival.ipynb\n",
            "straight JSON.parse baseline                       0.11066660 ms\n",
            "Object.freeze baseline                             0.34582383 ms\n",
            "immutable greedy nb                                0.40816922 ms\n",
            "\n",
            " -----  intro.ipynb\n",
            "straight JSON.parse baseline                       0.03264234 ms\n",
            "Object.freeze baseline                             0.08193051 ms\n",
            "immutable greedy nb                                0.13175342 ms\n",
            "\n",
            " -----  model-debug.ipynb\n",
            "straight JSON.parse baseline                       0.01731088 ms\n",
            "Object.freeze baseline                             0.04996562 ms\n",
            "immutable greedy nb                                0.06617834 ms\n",
            "\n",
            " -----  pandas-to-geojson.ipynb\n",
            "straight JSON.parse baseline                       0.07676871 ms\n",
            "Object.freeze baseline                             0.23245053 ms\n",
            "immutable greedy nb                                0.28704811 ms\n",
            "\n",
            " -----  plotly.ipynb\n",
            "straight JSON.parse baseline                       0.65487637 ms\n",
            "Object.freeze baseline                             2.10578171 ms\n",
            "immutable greedy nb                                2.50347865 ms\n",
            "\n",
            " -----  plotlyr.ipynb\n",
            "straight JSON.parse baseline                       0.01031352 ms\n",
            "Object.freeze baseline                             0.03151152 ms\n",
            "immutable greedy nb                                0.03889758 ms\n",
            "\n",
            " -----  table-with-schema.ipynb\n",
            "straight JSON.parse baseline                       0.44009007 ms\n",
            "Object.freeze baseline                             0.82348861 ms\n",
            "immutable greedy nb                                1.10231335 ms\n"
          ]
        }
      ],
      "execution_count": 17,
      "metadata": {
        "collapsed": false,
        "outputExpanded": false
      }
    },
    {
      "cell_type": "markdown",
      "source": [
        "Since these are in milliseconds and the difference is not much, it seems like maybe this doesn't need to be optimized. In the case of the altair notebook, which has a pretty big JSON structure inside (and only one!), perhaps it would make sense if some of our structure is frozen objects (don't force vega payloads to be Immutable Maps).\n",
        "\n",
        "```\n",
        " -----  altair.ipynb\n",
        "straight JSON.parse baseline                       1.10996391 ms\n",
        "Object.freeze baseline                             2.29745900 ms\n",
        "straight JSON.parse then commutable conversion     6.84918417 ms\n",
        "immutable greedy nb                                5.85418076 ms\n",
        "```"
      ],
      "metadata": {
        "outputExpanded": false
      }
    }
  ],
  "metadata": {
    "kernelspec": {
      "name": "node_nteract",
      "language": "javascript",
      "display_name": "Node.js (nteract)"
    },
    "kernel_info": {
      "name": "node_nteract"
    },
    "language_info": {
      "name": "javascript",
      "version": "7.9.0",
      "mimetype": "application/javascript",
      "file_extension": ".js"
    },
    "nteract": {
      "version": "0.1.0"
    }
  },
  "nbformat": 4,
  "nbformat_minor": 0
}