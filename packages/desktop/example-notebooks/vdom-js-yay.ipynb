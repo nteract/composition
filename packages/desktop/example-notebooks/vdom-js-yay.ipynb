{
  "cells": [
    {
      "cell_type": "code",
      "source": [
        "var attributes = {\n",
        "    'data-path-set-value': 'what',\n",
        "    'data-path-meh': 12,\n",
        "    'value': 3\n",
        "}\n",
        "\n",
        "model = {\n",
        "    'what': 40\n",
        "}\n",
        "\n\n",
        "allDataPathSetters = Object.keys(attributes)\n",
        "    .filter(x => x.startsWith('data-path'))\n",
        "allDataPathSetters"
      ],
      "outputs": [
        {
          "output_type": "execute_result",
          "execution_count": 11,
          "data": {
            "text/plain": [
              "[ 'data-path-set-value', 'data-path-meh' ]"
            ]
          },
          "metadata": {}
        }
      ],
      "execution_count": 11,
      "metadata": {
        "collapsed": false,
        "outputHidden": false,
        "inputHidden": false
      }
    },
    {
      "cell_type": "code",
      "source": [
        "var _ = require('lodash')"
      ],
      "outputs": [],
      "execution_count": 10,
      "metadata": {
        "collapsed": false,
        "outputHidden": false,
        "inputHidden": false
      }
    },
    {
      "cell_type": "code",
      "source": [
        "allDataPathSetters.reduce(\n",
        "    (all, dataPath) => {\n",
        "        return Object.assign(\n",
        "        {}, { _.get(model, dataPath)} , attributes),\n",
        "    }\n",
        "    {})"
      ],
      "outputs": [
        {
          "output_type": "execute_result",
          "execution_count": 14,
          "data": {
            "text/plain": [
              "{ 'data-path-set-value': 'what', 'data-path-meh': 12, value: 3 }"
            ]
          },
          "metadata": {}
        }
      ],
      "execution_count": 14,
      "metadata": {
        "collapsed": false,
        "outputHidden": false,
        "inputHidden": false
      }
    },
    {
      "cell_type": "code",
      "source": [
        "'data-path-meh'.split('data-path-')[1]"
      ],
      "outputs": [
        {
          "output_type": "execute_result",
          "execution_count": 17,
          "data": {
            "text/plain": [
              "'meh'"
            ]
          },
          "metadata": {}
        }
      ],
      "execution_count": 17,
      "metadata": {
        "collapsed": false,
        "outputHidden": false,
        "inputHidden": false
      }
    },
    {
      "cell_type": "code",
      "source": [
        "Object.assign({}, { children: \"zoo\" }, {children: undefined })"
      ],
      "outputs": [
        {
          "output_type": "execute_result",
          "execution_count": 27,
          "data": {
            "text/plain": [
              "{ children: undefined }"
            ]
          },
          "metadata": {}
        }
      ],
      "execution_count": 27,
      "metadata": {
        "collapsed": false,
        "outputHidden": false,
        "inputHidden": false
      }
    },
    {
      "cell_type": "code",
      "source": [],
      "outputs": [],
      "execution_count": null,
      "metadata": {
        "collapsed": false,
        "outputHidden": false,
        "inputHidden": false
      }
    }
  ],
  "metadata": {
    "kernelspec": {
      "name": "node_nteract",
      "language": "javascript",
      "display_name": "Node.js (nteract)"
    },
    "kernel_info": {
      "name": "node_nteract"
    },
    "language_info": {
      "name": "javascript",
      "version": "7.9.0",
      "mimetype": "application/javascript",
      "file_extension": ".js"
    },
    "nteract": {
      "version": "0.2.0"
    }
  },
  "nbformat": 4,
  "nbformat_minor": 4
}