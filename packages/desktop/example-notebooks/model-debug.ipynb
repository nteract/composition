{
  "cells": [
    {
      "cell_type": "code",
      "source": [
        "import IPython"
      ],
      "outputs": [],
      "execution_count": 3,
      "metadata": {
        "collapsed": false,
        "outputExpanded": false
      }
    },
    {
      "cell_type": "code",
      "source": [
        "import ipykernel"
      ],
      "outputs": [],
      "execution_count": 1,
      "metadata": {
        "collapsed": false,
        "outputExpanded": false
      }
    },
    {
      "cell_type": "code",
      "source": [
        "IPython.display.display({\n",
        "    'application/x-nteract-model-debug+json': 'asdfasf'\n",
        "},\n",
        "raw=True)"
      ],
      "outputs": [
        {
          "output_type": "error",
          "ename": "NameError",
          "evalue": "name 'IPython' is not defined",
          "traceback": [
            "\u001b[0;31m---------------------------------------------------------------------------\u001b[0m",
            "\u001b[0;31mNameError\u001b[0m                                 Traceback (most recent call last)",
            "\u001b[0;32m<ipython-input-2-6b85ba3c875b>\u001b[0m in \u001b[0;36m<module>\u001b[0;34m()\u001b[0m\n\u001b[0;32m----> 1\u001b[0;31m IPython.display.display({\n\u001b[0m\u001b[1;32m      2\u001b[0m     \u001b[0;34m'application/x-nteract-model-debug+json'\u001b[0m\u001b[0;34m:\u001b[0m \u001b[0;34m'asdfasf'\u001b[0m\u001b[0;34m\u001b[0m\u001b[0m\n\u001b[1;32m      3\u001b[0m },\n\u001b[1;32m      4\u001b[0m raw=True)\n",
            "\u001b[0;31mNameError\u001b[0m: name 'IPython' is not defined"
          ]
        }
      ],
      "execution_count": 2,
      "metadata": {
        "collapsed": false,
        "outputExpanded": false
      }
    },
    {
      "cell_type": "code",
      "source": [
        "c = ipykernel.comm.Comm(target_name='setIn', target_module='reducers')"
      ],
      "outputs": [],
      "execution_count": 4,
      "metadata": {
        "collapsed": false,
        "outputExpanded": false
      }
    },
    {
      "cell_type": "code",
      "source": [
        "c.comm_id"
      ],
      "outputs": [
        {
          "output_type": "execute_result",
          "execution_count": 5,
          "data": {
            "text/plain": [
              "'7c013fec3c194ddc9b6b2908634f8735'"
            ]
          },
          "metadata": {}
        }
      ],
      "execution_count": 5,
      "metadata": {
        "collapsed": false,
        "outputHidden": false,
        "inputHidden": false
      }
    },
    {
      "cell_type": "code",
      "source": [
        "import time\n",
        "import random\n",
        "\n",
        "for ii in range(25) :\n",
        "  time.sleep(0.1)\n",
        "  c.send({'path': ['a'], 'value': random.random()})"
      ],
      "outputs": [],
      "execution_count": 7,
      "metadata": {
        "collapsed": false,
        "outputExpanded": false
      }
    },
    {
      "cell_type": "code",
      "source": [],
      "outputs": [],
      "execution_count": null,
      "metadata": {
        "collapsed": false,
        "outputExpanded": false
      }
    }
  ],
  "metadata": {
    "kernelspec": {
      "name": "python3",
      "language": "python",
      "display_name": "Python 3"
    },
    "kernel_info": {
      "name": "python3"
    },
    "language_info": {
      "name": "python",
      "version": "3.6.2",
      "mimetype": "text/x-python",
      "codemirror_mode": {
        "name": "ipython",
        "version": 3
      },
      "pygments_lexer": "ipython3",
      "nbconvert_exporter": "python",
      "file_extension": ".py"
    },
    "nteract": {
      "version": "0.2.0"
    }
  },
  "nbformat": 4,
  "nbformat_minor": 0
}