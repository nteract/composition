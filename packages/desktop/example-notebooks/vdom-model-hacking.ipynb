{
  "cells": [
    {
      "cell_type": "code",
      "source": [
        "from vdom import h, div, h1, p, img, toJSON"
      ],
      "outputs": [],
      "execution_count": 20,
      "metadata": {
        "collapsed": false,
        "outputHidden": false,
        "inputHidden": false
      }
    },
    {
      "cell_type": "code",
      "source": [
        "styles = {\n",
        "    'header': {\n",
        "            \"color\": \"white\",\n",
        "            \"backgroundColor\": \"green\",\n",
        "            \"paddingLeft\": \"20px\"\n",
        "        }\n",
        "}\n",
        "\n",
        "# styled-components\n",
        "\n\n\n",
        "def write_audit_component(description=\"Stuff\"):\n",
        "    return div([\n",
        "        h1('Write Audit Publish Report', style=styles['header']),\n",
        "        p(description),\n",
        "        h('input')\n",
        "    ])\n",
        "\n\n",
        "div([\n",
        "    write_audit_component(\"One thing\"),\n",
        "    write_audit_component(\"TWO\"),\n",
        "    write_audit_component(\"THREE\"),\n",
        "])\n"
      ],
      "outputs": [
        {
          "output_type": "execute_result",
          "execution_count": 25,
          "data": {
            "application/vdom.v1+json": {
              "tagName": "div",
              "attributes": {},
              "children": [
                {
                  "tagName": "div",
                  "attributes": {},
                  "children": [
                    {
                      "tagName": "h1",
                      "attributes": {
                        "style": {
                          "color": "white",
                          "backgroundColor": "green",
                          "paddingLeft": "20px"
                        }
                      },
                      "children": "Write Audit Publish Report"
                    },
                    {
                      "tagName": "p",
                      "attributes": {},
                      "children": "One thing"
                    },
                    {
                      "tagName": "input",
                      "attributes": {},
                      "children": null
                    }
                  ]
                },
                {
                  "tagName": "div",
                  "attributes": {},
                  "children": [
                    {
                      "tagName": "h1",
                      "attributes": {
                        "style": {
                          "color": "white",
                          "backgroundColor": "green",
                          "paddingLeft": "20px"
                        }
                      },
                      "children": "Write Audit Publish Report"
                    },
                    {
                      "tagName": "p",
                      "attributes": {},
                      "children": "TWO"
                    },
                    {
                      "tagName": "input",
                      "attributes": {},
                      "children": null
                    }
                  ]
                },
                {
                  "tagName": "div",
                  "attributes": {},
                  "children": [
                    {
                      "tagName": "h1",
                      "attributes": {
                        "style": {
                          "color": "white",
                          "backgroundColor": "green",
                          "paddingLeft": "20px"
                        }
                      },
                      "children": "Write Audit Publish Report"
                    },
                    {
                      "tagName": "p",
                      "attributes": {},
                      "children": "THREE"
                    },
                    {
                      "tagName": "input",
                      "attributes": {},
                      "children": null
                    }
                  ]
                }
              ]
            },
            "text/plain": [
              "<vdom.core.createComponent.<locals>.Component at 0x11207bc50>"
            ]
          },
          "metadata": {}
        }
      ],
      "execution_count": 25,
      "metadata": {
        "collapsed": false,
        "outputHidden": false,
        "inputHidden": false
      }
    },
    {
      "cell_type": "code",
      "source": [
        "toJSON(h1('hey'))"
      ],
      "outputs": [
        {
          "output_type": "execute_result",
          "execution_count": 23,
          "data": {
            "text/plain": [
              "{'attributes': {}, 'children': 'hey', 'tagName': 'h1'}"
            ]
          },
          "metadata": {}
        }
      ],
      "execution_count": 23,
      "metadata": {
        "collapsed": false,
        "outputHidden": false,
        "inputHidden": false
      }
    },
    {
      "cell_type": "code",
      "source": [
        "import time\n",
        "\n",
        "handle = display(div([\n",
        "    h('details', [\n",
        "        h('summary', 'Click me'),\n",
        "        write_audit_component(\"Loading... \")\n",
        "    ])\n",
        "]), display_id=True)\n",
        "\n",
        "time.sleep(1.5)\n",
        "\n",
        "handle.update(div([\n",
        "    h('details', [\n",
        "        h('summary', 'Click me'),\n",
        "        write_audit_component(\"DATA \" * 20)\n",
        "    ])\n",
        "]))"
      ],
      "outputs": [
        {
          "output_type": "display_data",
          "data": {
            "application/vdom.v1+json": {
              "tagName": "div",
              "attributes": {},
              "children": [
                {
                  "tagName": "details",
                  "attributes": {},
                  "children": [
                    {
                      "tagName": "summary",
                      "attributes": {
                        "id": "test"
                      },
                      "children": "Click me"
                    },
                    {
                      "tagName": "div",
                      "attributes": {},
                      "children": [
                        {
                          "tagName": "h1",
                          "attributes": {
                            "style": {
                              "color": "white",
                              "backgroundColor": "green",
                              "paddingLeft": "20px"
                            }
                          },
                          "children": "Write Audit Publish Report"
                        },
                        {
                          "tagName": "p",
                          "attributes": {},
                          "children": "DATA DATA DATA DATA DATA DATA DATA DATA DATA DATA DATA DATA DATA DATA DATA DATA DATA DATA DATA DATA "
                        },
                        {
                          "tagName": "input",
                          "attributes": {},
                          "children": null
                        }
                      ]
                    }
                  ]
                }
              ]
            },
            "text/plain": [
              "<vdom.core.createComponent.<locals>.Component at 0x1121090f0>"
            ]
          },
          "metadata": {}
        }
      ],
      "execution_count": 31,
      "metadata": {
        "collapsed": false,
        "outputHidden": false,
        "inputHidden": false
      }
    },
    {
      "cell_type": "code",
      "source": [],
      "outputs": [],
      "execution_count": null,
      "metadata": {
        "collapsed": false,
        "outputHidden": false,
        "inputHidden": false
      }
    },
    {
      "cell_type": "code",
      "source": [
        "input_ = partial(h, 'input')"
      ],
      "outputs": [],
      "execution_count": 2,
      "metadata": {
        "collapsed": false,
        "outputHidden": false,
        "inputHidden": false
      }
    },
    {
      "cell_type": "code",
      "source": [
        "import ipykernel\n",
        "\n",
        "c = ipykernel.comm.Comm(target_name='setIn', target_module='reducers')\n",
        "print(c.comm_id)\n",
        "c.send({'path': ['style'], 'value': { 'backgroundColor': 'DeepPink'} })"
      ],
      "outputs": [
        {
          "output_type": "stream",
          "name": "stdout",
          "text": [
            "d7cb5950eff046e88b11775a20739e52\n"
          ]
        }
      ],
      "execution_count": 3,
      "metadata": {
        "collapsed": false,
        "outputHidden": false,
        "inputHidden": false
      }
    },
    {
      "cell_type": "code",
      "source": [
        "display(\n",
        "        div([\n",
        "            h1('hey'),\n",
        "            p('woo'),\n",
        "            input_()\n",
        "        ]),\n",
        "    metadata={\n",
        "        \"application/vdom.v1+json\": {\n",
        "            \"modelID\": c.comm_id   \n",
        "        }\n",
        "    }\n",
        ")"
      ],
      "outputs": [
        {
          "output_type": "display_data",
          "data": {
            "application/vdom.v1+json": {
              "tagName": "div",
              "attributes": {},
              "children": [
                {
                  "tagName": "h1",
                  "attributes": {},
                  "children": "hey"
                },
                {
                  "tagName": "p",
                  "attributes": {},
                  "children": "woo"
                },
                {
                  "tagName": "input",
                  "attributes": {},
                  "children": null
                }
              ]
            },
            "text/plain": [
              "<vdom.core.createComponent.<locals>.Component at 0x111eb72b0>"
            ]
          },
          "metadata": {
            "application/vdom.v1+json": {
              "modelID": "d7cb5950eff046e88b11775a20739e52"
            }
          }
        }
      ],
      "execution_count": 4,
      "metadata": {
        "collapsed": false,
        "outputHidden": false,
        "inputHidden": false
      }
    },
    {
      "cell_type": "markdown",
      "source": [
        "We have:\n",
        "\n",
        "* `comm_id`\n",
        "* `setIn` reducer\n",
        "* `data-path-for-value` -- one element can bind multiple attributes\n",
        "\n\n",
        "What should I put on models to identify which they want to use\n",
        "\n",
        "* `data-comm-id` or `data-model-id` on the top most element?\n",
        "\n",
        "Things I'm curious about:\n",
        "\n",
        "* Should we be able to consume from multiple models within one output?\n",
        "\nI feel like extending ourselves to "
      ],
      "metadata": {}
    },
    {
      "cell_type": "markdown",
      "source": [],
      "metadata": {}
    },
    {
      "cell_type": "markdown",
      "source": [],
      "metadata": {}
    }
  ],
  "metadata": {
    "kernelspec": {
      "name": "python3",
      "language": "python",
      "display_name": "Python 3"
    },
    "kernel_info": {
      "name": "python3"
    },
    "language_info": {
      "name": "python",
      "version": "3.6.2",
      "mimetype": "text/x-python",
      "codemirror_mode": {
        "name": "ipython",
        "version": 3
      },
      "pygments_lexer": "ipython3",
      "nbconvert_exporter": "python",
      "file_extension": ".py"
    },
    "nteract": {
      "version": "0.2.0"
    }
  },
  "nbformat": 4,
  "nbformat_minor": 4
}