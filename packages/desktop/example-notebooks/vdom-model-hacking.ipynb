{
  "cells": [
    {
      "cell_type": "code",
      "source": [
        "from vdom import VDOM, createElement, div, h1, p, img"
      ],
      "outputs": [],
      "execution_count": 1,
      "metadata": {
        "collapsed": false,
        "outputHidden": false,
        "inputHidden": false
      }
    },
    {
      "cell_type": "code",
      "source": [
        "input_ = createElement('input')"
      ],
      "outputs": [],
      "execution_count": 2,
      "metadata": {
        "collapsed": false,
        "outputHidden": false,
        "inputHidden": false
      }
    },
    {
      "cell_type": "code",
      "source": [
        "import ipykernel\n",
        "\n",
        "c = ipykernel.comm.Comm(target_name='setIn', target_module='reducers')\n",
        "print(c.comm_id)\n",
        "c.send({'path': ['style'], 'value': { 'backgroundColor': 'DeepPink'} })"
      ],
      "outputs": [
        {
          "output_type": "stream",
          "name": "stdout",
          "text": [
            "552e1c4beed742c7b3d4deb1ffa29ca7\n"
          ]
        }
      ],
      "execution_count": 5,
      "metadata": {
        "collapsed": false,
        "outputHidden": false,
        "inputHidden": false
      }
    },
    {
      "cell_type": "code",
      "source": [
        "display(\n",
        "    VDOM(\n",
        "        div([\n",
        "            h1('hey'),\n",
        "            p('woo')\n",
        "        ])\n",
        "    ),\n",
        "    metadata={\n",
        "        \"application/vdom.v1+json\": {\n",
        "            \"modelID\": c.comm_id   \n",
        "        }\n",
        "    }\n",
        ")"
      ],
      "outputs": [
        {
          "output_type": "display_data",
          "data": {
            "application/vdom.v1+json": {
              "tagName": "div",
              "attributes": {},
              "children": [
                {
                  "tagName": "h1",
                  "attributes": {},
                  "children": "hey"
                },
                {
                  "tagName": "p",
                  "attributes": {},
                  "children": "woo"
                }
              ]
            },
            "text/plain": [
              "<vdom.core.VDOM at 0x10680f400>"
            ]
          },
          "metadata": {
            "application/vdom.v1+json": {
              "modelID": "552e1c4beed742c7b3d4deb1ffa29ca7"
            }
          }
        }
      ],
      "execution_count": 7,
      "metadata": {
        "collapsed": false,
        "outputHidden": false,
        "inputHidden": false
      }
    },
    {
      "cell_type": "code",
      "source": [],
      "outputs": [],
      "execution_count": null,
      "metadata": {
        "collapsed": false,
        "outputHidden": false,
        "inputHidden": false
      }
    }
  ],
  "metadata": {
    "kernelspec": {
      "name": "python3",
      "language": "python",
      "display_name": "Python 3"
    },
    "kernel_info": {
      "name": "python3"
    },
    "language_info": {
      "name": "python",
      "version": "3.6.2",
      "mimetype": "text/x-python",
      "codemirror_mode": {
        "name": "ipython",
        "version": 3
      },
      "pygments_lexer": "ipython3",
      "nbconvert_exporter": "python",
      "file_extension": ".py"
    },
    "nteract": {
      "version": "0.2.0"
    }
  },
  "nbformat": 4,
  "nbformat_minor": 4
}