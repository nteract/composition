{
  "cells": [
    {
      "cell_type": "code",
      "source": [
        "import subprocess, re, json\n",
        "from IPython.display import JSON, display\n",
        "\n",
        "proc = subprocess.Popen(\n",
        "    '../node_modules/.bin/jest --json',\n",
        "    stdout=subprocess.PIPE, stderr=subprocess.PIPE, shell=True\n",
        ")\n",
        "raw = proc.stdout.read()\n",
        "data = json.loads(raw)\n",
        "\ndisplay(JSON(data))"
      ],
      "outputs": [],
      "execution_count": null,
      "metadata": {
        "collapsed": false,
        "outputHidden": false,
        "inputHidden": false
      }
    },
    {
      "cell_type": "code",
      "source": [
        "from vdom import table, tr, td\n",
        "\n",
        "runtimes = [\n",
        "    (re.split(\"packages/\", x['name'])[1], x['endTime'] - x['startTime'])\n",
        "    for x in data['testResults']\n",
        "]\n",
        "\n",
        "display(\n",
        "    table(\n",
        "        [\n",
        "            tr(\n",
        "                td(name),\n",
        "                td(f\"{time / 1000.}s\")\n",
        "            ) for (name, time) in \n",
        "            sorted(runtimes, key=lambda x: x[1], reverse=True)\n",
        "            if time > 1000\n",
        "        ]\n",
        "    )\n",
        ")"
      ],
      "outputs": [],
      "execution_count": null,
      "metadata": {
        "collapsed": false,
        "outputHidden": false,
        "inputHidden": false
      }
    }
  ],
  "metadata": {
    "kernelspec": {
      "name": "python3",
      "language": "python",
      "display_name": "Python 3"
    },
    "kernel_info": {
      "name": "python3"
    },
    "language_info": {
      "name": "python",
      "version": "3.6.3",
      "mimetype": "text/x-python",
      "codemirror_mode": {
        "name": "ipython",
        "version": 3
      },
      "pygments_lexer": "ipython3",
      "nbconvert_exporter": "python",
      "file_extension": ".py"
    },
    "nteract": {
      "version": "0.4.3"
    }
  },
  "nbformat": 4,
  "nbformat_minor": 4
}