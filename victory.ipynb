{
 "nbformat_minor": 0,
 "cells": [
  {
   "cell_type": "markdown",
   "metadata": {},
   "source": [
    "# Introducing Victory for Python!\n",
    "\nMake sure to run the following code cell first to initialize victorize"
   ]
  },
  {
   "cell_type": "code",
   "execution_count": 14,
   "metadata": {
    "collapsed": false
   },
   "outputs": [],
   "source": [
    "import IPython\n",
    "\n",
    "def victorize(data, name='VictoryBar', **kwargs):\n",
    "  \"\"\"Plot using Victory Charts\n",
    "  \n",
    "  data -- array of data in the style Victory expects\n",
    "  name -- Victory component to use\n",
    "  \n",
    "  \"\"\"\n",
    "  bundle = {}\n",
    "  bundle['application/json+victory.v1'] = {\n",
    "  \t'data': data,\n",
    "    'name': name,\n",
    "  }\n",
    "  bundle['application/json+victory.v1'].update(kwargs)\n",
    "  \n",
    "  IPython.display.display(bundle, raw=True)"
   ]
  },
  {
   "cell_type": "code",
   "execution_count": 9,
   "metadata": {
    "collapsed": false
   },
   "outputs": [
    {
     "metadata": {},
     "data": {
      "application/json+victory.v1": {
       "name": "VictoryScatter",
       "data": [
        {
         "y": 2,
         "fill": "gold",
         "x": 1
        },
        {
         "y": 5,
         "x": 2
        },
        {
         "y": 10,
         "x": 3
        }
       ],
       "labels": [
        "a",
        "b",
        "c"
       ]
      }
     },
     "output_type": "display_data"
    }
   ],
   "source": [
    "victorize([\n",
    "    dict(x=1, y=2, fill=\"gold\"),\n",
    "    dict(x=2, y=5),\n",
    "    dict(x=3, y=10)\n",
    "], name='VictoryScatter', labels=['a', 'b', 'c'])"
   ]
  },
  {
   "cell_type": "code",
   "execution_count": 15,
   "metadata": {
    "collapsed": false
   },
   "source": [
    "import random\n",
    "victorize([{'x': x, 'y': random.random()} for x in range(20)])"
   ],
   "outputs": [
    {
     "metadata": {},
     "data": {
      "application/json+victory.v1": {
       "name": "VictoryBar",
       "data": [
        {
         "y": 0.3944402521986271,
         "x": 0
        },
        {
         "y": 0.5887840909734977,
         "x": 1
        },
        {
         "y": 0.10144468593145639,
         "x": 2
        },
        {
         "y": 0.7160204810489457,
         "x": 3
        },
        {
         "y": 0.6959494639784949,
         "x": 4
        },
        {
         "y": 0.7412368265119448,
         "x": 5
        },
        {
         "y": 0.19730986727722855,
         "x": 6
        },
        {
         "y": 0.5285048455591892,
         "x": 7
        },
        {
         "y": 0.6219274956082941,
         "x": 8
        },
        {
         "y": 0.48865258229236674,
         "x": 9
        },
        {
         "y": 0.30139565408727587,
         "x": 10
        },
        {
         "y": 0.5887462241500138,
         "x": 11
        },
        {
         "y": 0.12105860081193864,
         "x": 12
        },
        {
         "y": 0.4425277186769626,
         "x": 13
        },
        {
         "y": 0.9204512626021825,
         "x": 14
        },
        {
         "y": 0.7446986088192861,
         "x": 15
        },
        {
         "y": 0.5511435902934715,
         "x": 16
        },
        {
         "y": 0.2147508008327692,
         "x": 17
        },
        {
         "y": 0.16459922299627627,
         "x": 18
        },
        {
         "y": 0.7068016896344899,
         "x": 19
        }
       ]
      }
     },
     "output_type": "display_data"
    }
   ]
  },
  {
   "cell_type": "markdown",
   "metadata": {},
   "source": [
    "Increase the range there to > 20000 and witness terrible performance."
   ]
  },
  {
   "cell_type": "code",
   "execution_count": null,
   "metadata": {
    "collapsed": false
   },
   "source": [
    "import random \n",
    "\n",
    "# Should we try it...?\n",
    "victorize([{'x': x, 'y': random.random()} for x in range(20000)])"
   ],
   "outputs": []
  }
 ],
 "metadata": {
  "kernel_info": {
   "name": "python3"
  },
  "kernelspec": {
   "name": "python3",
   "language": "python",
   "display_name": "Python 3"
  },
  "language_info": {
   "name": "python",
   "mimetype": "text/x-python",
   "pygments_lexer": "ipython3",
   "nbconvert_exporter": "python",
   "file_extension": ".py",
   "version": "3.5.2",
   "codemirror_mode": {
    "name": "ipython",
    "version": 3
   }
  }
 },
 "nbformat": 4
}