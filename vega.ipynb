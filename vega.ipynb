{
 "metadata": {
  "kernelspec": {
   "name": "python3",
   "language": "python",
   "display_name": "Python 3"
  },
  "kernel_info": {
   "name": "python3"
  },
  "language_info": {
   "nbconvert_exporter": "python",
   "name": "python",
   "version": "3.5.2",
   "mimetype": "text/x-python",
   "codemirror_mode": {
    "name": "ipython",
    "version": 3
   },
   "file_extension": ".py",
   "pygments_lexer": "ipython3"
  }
 },
 "cells": [
  {
   "cell_type": "code",
   "execution_count": 2,
   "metadata": {
    "collapsed": false
   },
   "outputs": [
    {
     "data": {
      "text/plain": [
       "{'mode': 'vega-lite',\n",
       " 'spec': {'data': {'url': 'data/movies.json'},\n",
       "  'encoding': {'size': {'aggregate': 'count',\n",
       "    'field': '*',\n",
       "    'type': 'quantitative'},\n",
       "   'x': {'bin': {'maxbins': 10},\n",
       "    'field': 'IMDB_Rating',\n",
       "    'type': 'quantitative'},\n",
       "   'y': {'bin': {'maxbins': 10},\n",
       "    'field': 'Rotten_Tomatoes_Rating',\n",
       "    'type': 'quantitative'}},\n",
       "  'mark': 'point'}}"
      ]
     },
     "metadata": {},
     "execution_count": 2,
     "output_type": "execute_result"
    }
   ],
   "source": [
    "import json\n",
    "data = json.loads(\"\"\"\n",
    "{\n",
    "  \"mode\": \"vega-lite\",\n",
    "  \"spec\": {\n",
    "    \"data\": {\"url\": \"data/movies.json\"},\n",
    "    \"mark\": \"point\",\n",
    "    \"encoding\": {\n",
    "      \"x\": {\n",
    "        \"bin\": {\"maxbins\": 10},\n",
    "        \"field\": \"IMDB_Rating\",\n",
    "        \"type\": \"quantitative\"\n",
    "      },\n",
    "      \"y\": {\n",
    "        \"bin\": {\"maxbins\": 10},\n",
    "        \"field\": \"Rotten_Tomatoes_Rating\",\n",
    "        \"type\": \"quantitative\"\n",
    "      },\n",
    "      \"size\": {\n",
    "        \"aggregate\": \"count\",\n",
    "        \"field\": \"*\", \"type\":\n",
    "        \"quantitative\"\n",
    "      }\n",
    "    }\n",
    "  }\n",
    "}\n",
    "\"\"\")\n",
    "data"
   ]
  },
  {
   "cell_type": "code",
   "execution_count": 4,
   "metadata": {
    "collapsed": false
   },
   "source": [
    "import IPython\n",
    "IPython.display.display(\n",
    "  {\n",
    "    'application/json+vega-embed.v1': data\n",
    "  }\n",
    ", raw=True \n",
    ")"
   ],
   "outputs": [
    {
     "data": {},
     "metadata": {},
     "output_type": "display_data"
    }
   ]
  },
  {
   "cell_type": "code",
   "execution_count": null,
   "metadata": {
    "collapsed": false
   },
   "source": [],
   "outputs": []
  }
 ],
 "nbformat": 4,
 "nbformat_minor": 0
}